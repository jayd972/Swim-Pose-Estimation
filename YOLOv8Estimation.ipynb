{
 "cells": [
  {
   "cell_type": "code",
   "execution_count": 2,
   "id": "7e675765-7792-4d98-af22-dc7d057ff980",
   "metadata": {},
   "outputs": [
    {
     "name": "stdout",
     "output_type": "stream",
     "text": [
      "Downloading https://github.com/ultralytics/assets/releases/download/v8.3.0/yolov8x-pose.pt to 'yolov8x-pose.pt'...\n"
     ]
    },
    {
     "name": "stderr",
     "output_type": "stream",
     "text": [
      "\n",
      "00%|███████████████████████████████████████████████████████████████████████████████| 133M/133M [00:03<00:00, 44.3MB/s]"
     ]
    },
    {
     "name": "stdout",
     "output_type": "stream",
     "text": [
      "\n",
      "🧠 Starting batch pose estimation on 2556 images...\n"
     ]
    },
    {
     "name": "stderr",
     "output_type": "stream",
     "text": [
      "  2%|█▊                                                                              | 59/2556 [00:12<05:02,  8.26it/s]"
     ]
    },
    {
     "name": "stdout",
     "output_type": "stream",
     "text": [
      "[!] Failed processing C:\\Users\\Jay\\Desktop\\CV_Project\\Swimmer_Detections\\detection_20250509_215753_693088_frame_001095_20250509_032723_093252.jpg: index 0 is out of bounds for dimension 0 with size 0\n"
     ]
    },
    {
     "name": "stderr",
     "output_type": "stream",
     "text": [
      "  3%|██                                                                              | 65/2556 [00:13<04:19,  9.60it/s]"
     ]
    },
    {
     "name": "stdout",
     "output_type": "stream",
     "text": [
      "[!] Failed processing C:\\Users\\Jay\\Desktop\\CV_Project\\Swimmer_Detections\\detection_20250509_215805_658511_frame_001443_20250509_032734_191433.jpg: index 0 is out of bounds for dimension 0 with size 0\n",
      "[!] Failed processing C:\\Users\\Jay\\Desktop\\CV_Project\\Swimmer_Detections\\detection_20250509_215805_853161_frame_001446_20250509_032734_288152.jpg: index 0 is out of bounds for dimension 0 with size 0\n",
      "[!] Failed processing C:\\Users\\Jay\\Desktop\\CV_Project\\Swimmer_Detections\\detection_20250509_215806_323694_frame_001458_20250509_032734_693169.jpg: index 0 is out of bounds for dimension 0 with size 0\n"
     ]
    },
    {
     "name": "stderr",
     "output_type": "stream",
     "text": [
      "  3%|██▏                                                                             | 71/2556 [00:13<04:38,  8.93it/s]"
     ]
    },
    {
     "name": "stdout",
     "output_type": "stream",
     "text": [
      "[!] Failed processing C:\\Users\\Jay\\Desktop\\CV_Project\\Swimmer_Detections\\detection_20250509_215813_250606_frame_001659_20250509_032742_198923.jpg: index 0 is out of bounds for dimension 0 with size 0\n"
     ]
    },
    {
     "name": "stderr",
     "output_type": "stream",
     "text": [
      "  5%|███▉                                                                           | 127/2556 [00:21<04:43,  8.56it/s]"
     ]
    },
    {
     "name": "stdout",
     "output_type": "stream",
     "text": [
      "[!] Failed processing C:\\Users\\Jay\\Desktop\\CV_Project\\Swimmer_Detections\\detection_20250509_215901_810740_frame_002970_20250509_032824_591326.jpg: index 0 is out of bounds for dimension 0 with size 0\n"
     ]
    },
    {
     "name": "stderr",
     "output_type": "stream",
     "text": [
      "  6%|████▌                                                                          | 149/2556 [00:23<04:41,  8.56it/s]"
     ]
    },
    {
     "name": "stdout",
     "output_type": "stream",
     "text": [
      "[!] Failed processing C:\\Users\\Jay\\Desktop\\CV_Project\\Swimmer_Detections\\detection_20250509_220010_562134_frame_005091_20250509_032937_444739.jpg: index 0 is out of bounds for dimension 0 with size 0\n"
     ]
    },
    {
     "name": "stderr",
     "output_type": "stream",
     "text": [
      "  7%|█████▍                                                                         | 176/2556 [00:27<04:45,  8.33it/s]"
     ]
    },
    {
     "name": "stdout",
     "output_type": "stream",
     "text": [
      "[!] Failed processing C:\\Users\\Jay\\Desktop\\CV_Project\\Swimmer_Detections\\detection_20250509_220048_883742_frame_006126_20250509_033016_870629.jpg: index 0 is out of bounds for dimension 0 with size 0\n"
     ]
    },
    {
     "name": "stderr",
     "output_type": "stream",
     "text": [
      "  7%|█████▋                                                                         | 183/2556 [00:28<04:40,  8.47it/s]"
     ]
    },
    {
     "name": "stdout",
     "output_type": "stream",
     "text": [
      "[!] Failed processing C:\\Users\\Jay\\Desktop\\CV_Project\\Swimmer_Detections\\detection_20250509_220110_639927_frame_006744_20250509_033039_992627.jpg: index 0 is out of bounds for dimension 0 with size 0\n"
     ]
    },
    {
     "name": "stderr",
     "output_type": "stream",
     "text": [
      "  8%|█████▉                                                                         | 194/2556 [00:29<04:44,  8.31it/s]"
     ]
    },
    {
     "name": "stdout",
     "output_type": "stream",
     "text": [
      "[!] Failed processing C:\\Users\\Jay\\Desktop\\CV_Project\\Swimmer_Detections\\detection_20250509_220117_247102_frame_006900_20250509_033045_784493.jpg: index 0 is out of bounds for dimension 0 with size 0\n"
     ]
    },
    {
     "name": "stderr",
     "output_type": "stream",
     "text": [
      " 10%|███████▌                                                                       | 244/2556 [00:35<04:22,  8.80it/s]"
     ]
    },
    {
     "name": "stdout",
     "output_type": "stream",
     "text": [
      "[!] Failed processing C:\\Users\\Jay\\Desktop\\CV_Project\\Swimmer_Detections\\detection_20250509_220139_574936_frame_007302_20250509_033058_517816.jpg: index 0 is out of bounds for dimension 0 with size 0\n"
     ]
    },
    {
     "name": "stderr",
     "output_type": "stream",
     "text": [
      " 12%|█████████▍                                                                     | 305/2556 [00:44<04:24,  8.51it/s]"
     ]
    },
    {
     "name": "stdout",
     "output_type": "stream",
     "text": [
      "[!] Failed processing C:\\Users\\Jay\\Desktop\\CV_Project\\Swimmer_Detections\\detection_20250509_220234_673558_frame_012750_20250509_033320_978342.jpg: index 0 is out of bounds for dimension 0 with size 0\n"
     ]
    },
    {
     "name": "stderr",
     "output_type": "stream",
     "text": [
      " 12%|█████████▊                                                                     | 319/2556 [00:45<04:23,  8.48it/s]"
     ]
    },
    {
     "name": "stdout",
     "output_type": "stream",
     "text": [
      "[!] Failed processing C:\\Users\\Jay\\Desktop\\CV_Project\\Swimmer_Detections\\detection_20250509_220252_635923_frame_013248_20250509_033337_885533.jpg: index 0 is out of bounds for dimension 0 with size 0\n"
     ]
    },
    {
     "name": "stderr",
     "output_type": "stream",
     "text": [
      " 13%|█████████▉                                                                     | 323/2556 [00:46<04:18,  8.63it/s]"
     ]
    },
    {
     "name": "stdout",
     "output_type": "stream",
     "text": [
      "[!] Failed processing C:\\Users\\Jay\\Desktop\\CV_Project\\Swimmer_Detections\\detection_20250509_220311_047117_frame_013794_20250509_033356_089721.jpg: index 0 is out of bounds for dimension 0 with size 0\n"
     ]
    },
    {
     "name": "stderr",
     "output_type": "stream",
     "text": [
      " 13%|██████████▏                                                                    | 328/2556 [00:46<04:15,  8.71it/s]"
     ]
    },
    {
     "name": "stdout",
     "output_type": "stream",
     "text": [
      "[!] Failed processing C:\\Users\\Jay\\Desktop\\CV_Project\\Swimmer_Detections\\detection_20250509_220313_783570_frame_013860_20250509_033358_542994.jpg: index 0 is out of bounds for dimension 0 with size 0\n"
     ]
    },
    {
     "name": "stderr",
     "output_type": "stream",
     "text": [
      " 13%|██████████▍                                                                    | 338/2556 [00:48<04:21,  8.47it/s]"
     ]
    },
    {
     "name": "stdout",
     "output_type": "stream",
     "text": [
      "[!] Failed processing C:\\Users\\Jay\\Desktop\\CV_Project\\Swimmer_Detections\\detection_20250509_220317_874784_frame_013944_20250509_033401_575717.jpg: index 0 is out of bounds for dimension 0 with size 0\n"
     ]
    },
    {
     "name": "stderr",
     "output_type": "stream",
     "text": [
      " 13%|██████████▋                                                                    | 344/2556 [00:48<04:17,  8.59it/s]"
     ]
    },
    {
     "name": "stdout",
     "output_type": "stream",
     "text": [
      "[!] Failed processing C:\\Users\\Jay\\Desktop\\CV_Project\\Swimmer_Detections\\detection_20250509_220319_514635_frame_013968_20250509_033402_305536.jpg: index 0 is out of bounds for dimension 0 with size 0\n"
     ]
    },
    {
     "name": "stderr",
     "output_type": "stream",
     "text": [
      " 15%|███████████▋                                                                   | 377/2556 [00:53<04:21,  8.32it/s]"
     ]
    },
    {
     "name": "stdout",
     "output_type": "stream",
     "text": [
      "[!] Failed processing C:\\Users\\Jay\\Desktop\\CV_Project\\Swimmer_Detections\\detection_20250509_220359_773983_frame_015027_20250509_033437_705032.jpg: index 0 is out of bounds for dimension 0 with size 0\n"
     ]
    },
    {
     "name": "stderr",
     "output_type": "stream",
     "text": [
      " 15%|████████████▏                                                                  | 395/2556 [00:55<04:24,  8.17it/s]"
     ]
    },
    {
     "name": "stdout",
     "output_type": "stream",
     "text": [
      "[!] Failed processing C:\\Users\\Jay\\Desktop\\CV_Project\\Swimmer_Detections\\detection_20250509_220426_420965_frame_015729_20250509_033459_597052.jpg: index 0 is out of bounds for dimension 0 with size 0\n"
     ]
    },
    {
     "name": "stderr",
     "output_type": "stream",
     "text": [
      " 16%|████████████▎                                                                  | 397/2556 [00:55<03:53,  9.24it/s]"
     ]
    },
    {
     "name": "stdout",
     "output_type": "stream",
     "text": [
      "[!] Failed processing C:\\Users\\Jay\\Desktop\\CV_Project\\Swimmer_Detections\\detection_20250509_220427_471031_frame_015753_20250509_033500_407029.jpg: index 0 is out of bounds for dimension 0 with size 0\n",
      "[!] Failed processing C:\\Users\\Jay\\Desktop\\CV_Project\\Swimmer_Detections\\detection_20250509_220427_706334_frame_015756_20250509_033500_512779.jpg: index 0 is out of bounds for dimension 0 with size 0\n",
      "[!] Failed processing C:\\Users\\Jay\\Desktop\\CV_Project\\Swimmer_Detections\\detection_20250509_220427_918610_frame_015759_20250509_033500_619917.jpg: index 0 is out of bounds for dimension 0 with size 0\n"
     ]
    },
    {
     "name": "stderr",
     "output_type": "stream",
     "text": [
      " 16%|████████████▎                                                                  | 400/2556 [00:56<03:51,  9.30it/s]"
     ]
    },
    {
     "name": "stdout",
     "output_type": "stream",
     "text": [
      "[!] Failed processing C:\\Users\\Jay\\Desktop\\CV_Project\\Swimmer_Detections\\detection_20250509_220428_238206_frame_015765_20250509_033500_835033.jpg: index 0 is out of bounds for dimension 0 with size 0\n"
     ]
    },
    {
     "name": "stderr",
     "output_type": "stream",
     "text": [
      " 18%|██████████████▍                                                                | 467/2556 [01:04<03:56,  8.85it/s]"
     ]
    },
    {
     "name": "stdout",
     "output_type": "stream",
     "text": [
      "[!] Failed processing C:\\Users\\Jay\\Desktop\\CV_Project\\Swimmer_Detections\\detection_20250509_220502_946958_frame_016551_20250509_033527_490550.jpg: index 0 is out of bounds for dimension 0 with size 0\n"
     ]
    },
    {
     "name": "stderr",
     "output_type": "stream",
     "text": [
      " 19%|██████████████▌                                                                | 473/2556 [01:04<03:46,  9.21it/s]"
     ]
    },
    {
     "name": "stdout",
     "output_type": "stream",
     "text": [
      "[!] Failed processing C:\\Users\\Jay\\Desktop\\CV_Project\\Swimmer_Detections\\detection_20250509_220506_112740_frame_016626_20250509_033529_938660.jpg: index 0 is out of bounds for dimension 0 with size 0\n"
     ]
    },
    {
     "name": "stderr",
     "output_type": "stream",
     "text": [
      " 19%|██████████████▋                                                                | 476/2556 [01:05<03:43,  9.31it/s]"
     ]
    },
    {
     "name": "stdout",
     "output_type": "stream",
     "text": [
      "[!] Failed processing C:\\Users\\Jay\\Desktop\\CV_Project\\Swimmer_Detections\\detection_20250509_220510_538515_frame_016749_20250509_033533_613203.jpg: index 0 is out of bounds for dimension 0 with size 0\n"
     ]
    },
    {
     "name": "stderr",
     "output_type": "stream",
     "text": [
      " 19%|██████████████▊                                                                | 481/2556 [01:05<03:47,  9.11it/s]"
     ]
    },
    {
     "name": "stdout",
     "output_type": "stream",
     "text": [
      "[!] Failed processing C:\\Users\\Jay\\Desktop\\CV_Project\\Swimmer_Detections\\detection_20250509_220523_681674_frame_017115_20250509_033545_771904.jpg: index 0 is out of bounds for dimension 0 with size 0\n"
     ]
    },
    {
     "name": "stderr",
     "output_type": "stream",
     "text": [
      " 20%|███████████████▋                                                               | 508/2556 [01:09<04:07,  8.28it/s]"
     ]
    },
    {
     "name": "stdout",
     "output_type": "stream",
     "text": [
      "[!] Failed processing C:\\Users\\Jay\\Desktop\\CV_Project\\Swimmer_Detections\\detection_20250509_220559_827605_frame_018237_20250509_033626_519553.jpg: index 0 is out of bounds for dimension 0 with size 0\n"
     ]
    },
    {
     "name": "stderr",
     "output_type": "stream",
     "text": [
      " 20%|███████████████▊                                                               | 512/2556 [01:09<03:57,  8.62it/s]"
     ]
    },
    {
     "name": "stdout",
     "output_type": "stream",
     "text": [
      "[!] Failed processing C:\\Users\\Jay\\Desktop\\CV_Project\\Swimmer_Detections\\detection_20250509_220609_028724_frame_018504_20250509_033635_338642.jpg: index 0 is out of bounds for dimension 0 with size 0\n"
     ]
    },
    {
     "name": "stderr",
     "output_type": "stream",
     "text": [
      " 22%|█████████████████▏                                                             | 557/2556 [01:15<03:50,  8.69it/s]"
     ]
    },
    {
     "name": "stdout",
     "output_type": "stream",
     "text": [
      "[!] Failed processing C:\\Users\\Jay\\Desktop\\CV_Project\\Swimmer_Detections\\detection_20250509_220705_529043_frame_020013_20250509_033723_642090.jpg: index 0 is out of bounds for dimension 0 with size 0\n",
      "[!] Failed processing C:\\Users\\Jay\\Desktop\\CV_Project\\Swimmer_Detections\\detection_20250509_220706_118084_frame_020022_20250509_033723_917902.jpg: index 0 is out of bounds for dimension 0 with size 0\n"
     ]
    },
    {
     "name": "stderr",
     "output_type": "stream",
     "text": [
      " 22%|█████████████████▎                                                             | 560/2556 [01:15<03:30,  9.47it/s]"
     ]
    },
    {
     "name": "stdout",
     "output_type": "stream",
     "text": [
      "[!] Failed processing C:\\Users\\Jay\\Desktop\\CV_Project\\Swimmer_Detections\\detection_20250509_220706_501580_frame_020028_20250509_033724_094888.jpg: index 0 is out of bounds for dimension 0 with size 0\n"
     ]
    },
    {
     "name": "stderr",
     "output_type": "stream",
     "text": [
      " 22%|█████████████████▍                                                             | 564/2556 [01:15<03:30,  9.44it/s]"
     ]
    },
    {
     "name": "stdout",
     "output_type": "stream",
     "text": [
      "[!] Failed processing C:\\Users\\Jay\\Desktop\\CV_Project\\Swimmer_Detections\\detection_20250509_220707_492870_frame_020043_20250509_033724_527730.jpg: index 0 is out of bounds for dimension 0 with size 0\n"
     ]
    },
    {
     "name": "stderr",
     "output_type": "stream",
     "text": [
      " 22%|█████████████████▌                                                             | 568/2556 [01:16<03:40,  9.01it/s]"
     ]
    },
    {
     "name": "stdout",
     "output_type": "stream",
     "text": [
      "[!] Failed processing C:\\Users\\Jay\\Desktop\\CV_Project\\Swimmer_Detections\\detection_20250509_220708_670285_frame_020061_20250509_033725_080615.jpg: index 0 is out of bounds for dimension 0 with size 0\n"
     ]
    },
    {
     "name": "stderr",
     "output_type": "stream",
     "text": [
      " 23%|██████████████████▏                                                            | 587/2556 [01:18<03:51,  8.52it/s]"
     ]
    },
    {
     "name": "stdout",
     "output_type": "stream",
     "text": [
      "[!] Failed processing C:\\Users\\Jay\\Desktop\\CV_Project\\Swimmer_Detections\\detection_20250509_220735_300518_frame_020838_20250509_033749_454167.jpg: index 0 is out of bounds for dimension 0 with size 0\n"
     ]
    },
    {
     "name": "stderr",
     "output_type": "stream",
     "text": [
      " 23%|██████████████████▍                                                            | 595/2556 [01:19<03:40,  8.88it/s]"
     ]
    },
    {
     "name": "stdout",
     "output_type": "stream",
     "text": [
      "[!] Failed processing C:\\Users\\Jay\\Desktop\\CV_Project\\Swimmer_Detections\\detection_20250509_220812_639304_frame_021930_20250509_033823_641044.jpg: index 0 is out of bounds for dimension 0 with size 0\n",
      "[!] Failed processing C:\\Users\\Jay\\Desktop\\CV_Project\\Swimmer_Detections\\detection_20250509_220813_849190_frame_021960_20250509_033824_545957.jpg: index 0 is out of bounds for dimension 0 with size 0\n"
     ]
    },
    {
     "name": "stderr",
     "output_type": "stream",
     "text": [
      " 24%|██████████████████▋                                                            | 603/2556 [01:20<03:25,  9.49it/s]"
     ]
    },
    {
     "name": "stdout",
     "output_type": "stream",
     "text": [
      "[!] Failed processing C:\\Users\\Jay\\Desktop\\CV_Project\\Swimmer_Detections\\detection_20250509_220815_188271_frame_021984_20250509_033825_296791.jpg: index 0 is out of bounds for dimension 0 with size 0\n",
      "[!] Failed processing C:\\Users\\Jay\\Desktop\\CV_Project\\Swimmer_Detections\\detection_20250509_220815_519764_frame_021990_20250509_033825_478322.jpg: index 0 is out of bounds for dimension 0 with size 0\n"
     ]
    },
    {
     "name": "stderr",
     "output_type": "stream",
     "text": [
      " 24%|██████████████████▊                                                            | 607/2556 [01:20<03:31,  9.21it/s]"
     ]
    },
    {
     "name": "stdout",
     "output_type": "stream",
     "text": [
      "[!] Failed processing C:\\Users\\Jay\\Desktop\\CV_Project\\Swimmer_Detections\\detection_20250509_220816_418615_frame_022002_20250509_033825_834242.jpg: index 0 is out of bounds for dimension 0 with size 0\n"
     ]
    },
    {
     "name": "stderr",
     "output_type": "stream",
     "text": [
      " 27%|█████████████████████▏                                                         | 685/2556 [01:30<03:39,  8.53it/s]"
     ]
    },
    {
     "name": "stdout",
     "output_type": "stream",
     "text": [
      "[!] Failed processing C:\\Users\\Jay\\Desktop\\CV_Project\\Swimmer_Detections\\detection_20250509_220839_662809_frame_022701_20250509_033847_181852.jpg: index 0 is out of bounds for dimension 0 with size 0\n"
     ]
    },
    {
     "name": "stderr",
     "output_type": "stream",
     "text": [
      " 29%|██████████████████████▊                                                        | 739/2556 [01:38<03:30,  8.63it/s]"
     ]
    },
    {
     "name": "stdout",
     "output_type": "stream",
     "text": [
      "[!] Failed processing C:\\Users\\Jay\\Desktop\\CV_Project\\Swimmer_Detections\\detection_20250509_220856_696799_frame_023016_20250509_033857_337590.jpg: index 0 is out of bounds for dimension 0 with size 0\n",
      "[!] Failed processing C:\\Users\\Jay\\Desktop\\CV_Project\\Swimmer_Detections\\detection_20250509_220856_904748_frame_023019_20250509_033857_435376.jpg: index 0 is out of bounds for dimension 0 with size 0\n",
      "[!] Failed processing C:\\Users\\Jay\\Desktop\\CV_Project\\Swimmer_Detections\\detection_20250509_220857_102990_frame_023022_20250509_033857_550549.jpg: index 0 is out of bounds for dimension 0 with size 0\n"
     ]
    },
    {
     "name": "stderr",
     "output_type": "stream",
     "text": [
      " 31%|████████████████████████                                                       | 780/2556 [01:43<03:29,  8.49it/s]"
     ]
    },
    {
     "name": "stdout",
     "output_type": "stream",
     "text": [
      "[!] Failed processing C:\\Users\\Jay\\Desktop\\CV_Project\\Swimmer_Detections\\detection_20250509_220911_683298_frame_023724_20250509_033918_447670.jpg: index 0 is out of bounds for dimension 0 with size 0\n"
     ]
    },
    {
     "name": "stderr",
     "output_type": "stream",
     "text": [
      " 31%|████████████████████████▏                                                      | 783/2556 [01:43<03:00,  9.85it/s]"
     ]
    },
    {
     "name": "stdout",
     "output_type": "stream",
     "text": [
      "[!] Failed processing C:\\Users\\Jay\\Desktop\\CV_Project\\Swimmer_Detections\\detection_20250509_220912_715149_frame_023748_20250509_033919_184783.jpg: index 0 is out of bounds for dimension 0 with size 0\n",
      "[!] Failed processing C:\\Users\\Jay\\Desktop\\CV_Project\\Swimmer_Detections\\detection_20250509_220912_920082_frame_023751_20250509_033919_278985.jpg: index 0 is out of bounds for dimension 0 with size 0\n"
     ]
    },
    {
     "name": "stderr",
     "output_type": "stream",
     "text": [
      " 31%|████████████████████████▎                                                      | 786/2556 [01:44<02:49, 10.44it/s]"
     ]
    },
    {
     "name": "stdout",
     "output_type": "stream",
     "text": [
      "[!] Failed processing C:\\Users\\Jay\\Desktop\\CV_Project\\Swimmer_Detections\\detection_20250509_220916_082556_frame_023880_20250509_033923_054956.jpg: index 0 is out of bounds for dimension 0 with size 0\n",
      "[!] Failed processing C:\\Users\\Jay\\Desktop\\CV_Project\\Swimmer_Detections\\detection_20250509_220919_815257_frame_024117_20250509_033929_790731.jpg: index 0 is out of bounds for dimension 0 with size 0\n"
     ]
    },
    {
     "name": "stderr",
     "output_type": "stream",
     "text": [
      " 31%|████████████████████████▌                                                      | 793/2556 [01:45<02:56,  9.98it/s]"
     ]
    },
    {
     "name": "stdout",
     "output_type": "stream",
     "text": [
      "[!] Failed processing C:\\Users\\Jay\\Desktop\\CV_Project\\Swimmer_Detections\\detection_20250509_220930_674122_frame_026727_20250509_034034_662352.jpg: index 0 is out of bounds for dimension 0 with size 0\n",
      "[!] Failed processing C:\\Users\\Jay\\Desktop\\CV_Project\\Swimmer_Detections\\detection_20250509_220943_888914_frame_027132_20250509_034048_539600.jpg: index 0 is out of bounds for dimension 0 with size 0\n"
     ]
    },
    {
     "name": "stderr",
     "output_type": "stream",
     "text": [
      " 32%|█████████████████████████▌                                                     | 827/2556 [01:49<02:59,  9.63it/s]"
     ]
    },
    {
     "name": "stdout",
     "output_type": "stream",
     "text": [
      "[!] Failed processing C:\\Users\\Jay\\Desktop\\CV_Project\\Swimmer_Detections\\detection_20250509_221010_839650_frame_027822_20250509_034112_479212.jpg: index 0 is out of bounds for dimension 0 with size 0\n",
      "[!] Failed processing C:\\Users\\Jay\\Desktop\\CV_Project\\Swimmer_Detections\\detection_20250509_221011_035600_frame_027825_20250509_034112_596125.jpg: index 0 is out of bounds for dimension 0 with size 0\n"
     ]
    },
    {
     "name": "stderr",
     "output_type": "stream",
     "text": [
      " 33%|█████████████████████████▊                                                     | 836/2556 [01:50<03:17,  8.69it/s]"
     ]
    },
    {
     "name": "stdout",
     "output_type": "stream",
     "text": [
      "[!] Failed processing C:\\Users\\Jay\\Desktop\\CV_Project\\Swimmer_Detections\\detection_20250509_221023_447304_frame_028173_20250509_034124_817190.jpg: index 0 is out of bounds for dimension 0 with size 0\n"
     ]
    },
    {
     "name": "stderr",
     "output_type": "stream",
     "text": [
      " 34%|██████████████████████████▌                                                    | 859/2556 [01:53<03:28,  8.13it/s]"
     ]
    },
    {
     "name": "stdout",
     "output_type": "stream",
     "text": [
      "[!] Failed processing C:\\Users\\Jay\\Desktop\\CV_Project\\Swimmer_Detections\\detection_20250509_221053_113487_frame_028992_20250509_034154_735076.jpg: index 0 is out of bounds for dimension 0 with size 0\n"
     ]
    },
    {
     "name": "stderr",
     "output_type": "stream",
     "text": [
      " 34%|██████████████████████████▉                                                    | 870/2556 [01:54<03:19,  8.46it/s]"
     ]
    },
    {
     "name": "stdout",
     "output_type": "stream",
     "text": [
      "[!] Failed processing C:\\Users\\Jay\\Desktop\\CV_Project\\Swimmer_Detections\\detection_20250509_221101_188375_frame_029190_20250509_034200_869993.jpg: index 0 is out of bounds for dimension 0 with size 0\n"
     ]
    },
    {
     "name": "stderr",
     "output_type": "stream",
     "text": [
      " 34%|███████████████████████████▏                                                   | 878/2556 [01:55<03:16,  8.54it/s]"
     ]
    },
    {
     "name": "stdout",
     "output_type": "stream",
     "text": [
      "[!] Failed processing C:\\Users\\Jay\\Desktop\\CV_Project\\Swimmer_Detections\\detection_20250509_221122_889277_frame_029811_20250509_034221_017661.jpg: index 0 is out of bounds for dimension 0 with size 0\n"
     ]
    },
    {
     "name": "stderr",
     "output_type": "stream",
     "text": [
      " 35%|███████████████████████████▎                                                   | 885/2556 [01:56<03:18,  8.42it/s]"
     ]
    },
    {
     "name": "stdout",
     "output_type": "stream",
     "text": [
      "[!] Failed processing C:\\Users\\Jay\\Desktop\\CV_Project\\Swimmer_Detections\\detection_20250509_221155_529307_frame_030741_20250509_034252_626516.jpg: index 0 is out of bounds for dimension 0 with size 0\n"
     ]
    },
    {
     "name": "stderr",
     "output_type": "stream",
     "text": [
      " 35%|███████████████████████████▌                                                   | 891/2556 [01:57<03:12,  8.63it/s]"
     ]
    },
    {
     "name": "stdout",
     "output_type": "stream",
     "text": [
      "[!] Failed processing C:\\Users\\Jay\\Desktop\\CV_Project\\Swimmer_Detections\\detection_20250509_221202_978395_frame_030939_20250509_034258_595742.jpg: index 0 is out of bounds for dimension 0 with size 0\n"
     ]
    },
    {
     "name": "stderr",
     "output_type": "stream",
     "text": [
      " 38%|█████████████████████████████▋                                                 | 959/2556 [02:06<02:50,  9.36it/s]"
     ]
    },
    {
     "name": "stdout",
     "output_type": "stream",
     "text": [
      "[!] Failed processing C:\\Users\\Jay\\Desktop\\CV_Project\\Swimmer_Detections\\detection_20250509_221328_867059_frame_033309_20250509_034416_283005.jpg: index 0 is out of bounds for dimension 0 with size 0\n",
      "[!] Failed processing C:\\Users\\Jay\\Desktop\\CV_Project\\Swimmer_Detections\\detection_20250509_221329_164207_frame_033315_20250509_034416_496805.jpg: index 0 is out of bounds for dimension 0 with size 0\n"
     ]
    },
    {
     "name": "stderr",
     "output_type": "stream",
     "text": [
      " 38%|█████████████████████████████▊                                                 | 963/2556 [02:06<02:43,  9.74it/s]"
     ]
    },
    {
     "name": "stdout",
     "output_type": "stream",
     "text": [
      "[!] Failed processing C:\\Users\\Jay\\Desktop\\CV_Project\\Swimmer_Detections\\detection_20250509_221332_414702_frame_033408_20250509_034419_832607.jpg: index 0 is out of bounds for dimension 0 with size 0\n",
      "[!] Failed processing C:\\Users\\Jay\\Desktop\\CV_Project\\Swimmer_Detections\\detection_20250509_221332_709962_frame_033414_20250509_034420_070694.jpg: index 0 is out of bounds for dimension 0 with size 0\n"
     ]
    },
    {
     "name": "stderr",
     "output_type": "stream",
     "text": [
      " 38%|██████████████████████████████▏                                                | 978/2556 [02:08<03:23,  7.75it/s]"
     ]
    },
    {
     "name": "stdout",
     "output_type": "stream",
     "text": [
      "[!] Failed processing C:\\Users\\Jay\\Desktop\\CV_Project\\Swimmer_Detections\\detection_20250509_221343_705281_frame_033681_20250509_034429_112348.jpg: index 0 is out of bounds for dimension 0 with size 0\n"
     ]
    },
    {
     "name": "stderr",
     "output_type": "stream",
     "text": [
      " 40%|███████████████████████████████▍                                              | 1032/2556 [02:15<02:58,  8.55it/s]"
     ]
    },
    {
     "name": "stdout",
     "output_type": "stream",
     "text": [
      "[!] Failed processing C:\\Users\\Jay\\Desktop\\CV_Project\\Swimmer_Detections\\detection_20250509_221503_871952_frame_038832_20250509_034652_691018.jpg: index 0 is out of bounds for dimension 0 with size 0\n"
     ]
    },
    {
     "name": "stderr",
     "output_type": "stream",
     "text": [
      " 40%|███████████████████████████████▌                                              | 1034/2556 [02:15<02:35,  9.81it/s]"
     ]
    },
    {
     "name": "stdout",
     "output_type": "stream",
     "text": [
      "[!] Failed processing C:\\Users\\Jay\\Desktop\\CV_Project\\Swimmer_Detections\\detection_20250509_221504_835478_frame_038850_20250509_034653_272853.jpg: index 0 is out of bounds for dimension 0 with size 0\n",
      "[!] Failed processing C:\\Users\\Jay\\Desktop\\CV_Project\\Swimmer_Detections\\detection_20250509_221505_087483_frame_038853_20250509_034653_370140.jpg: index 0 is out of bounds for dimension 0 with size 0\n"
     ]
    },
    {
     "name": "stderr",
     "output_type": "stream",
     "text": [
      " 42%|████████████████████████████████▌                                             | 1069/2556 [02:20<02:56,  8.41it/s]"
     ]
    },
    {
     "name": "stdout",
     "output_type": "stream",
     "text": [
      "[!] Failed processing C:\\Users\\Jay\\Desktop\\CV_Project\\Swimmer_Detections\\detection_20250509_221602_905139_frame_040245_20250509_034737_632577.jpg: index 0 is out of bounds for dimension 0 with size 0\n"
     ]
    },
    {
     "name": "stderr",
     "output_type": "stream",
     "text": [
      " 42%|████████████████████████████████▉                                             | 1080/2556 [02:21<02:41,  9.14it/s]"
     ]
    },
    {
     "name": "stdout",
     "output_type": "stream",
     "text": [
      "[!] Failed processing C:\\Users\\Jay\\Desktop\\CV_Project\\Swimmer_Detections\\detection_20250509_221620_679116_frame_040674_20250509_034751_845098.jpg: index 0 is out of bounds for dimension 0 with size 0\n",
      "[!] Failed processing C:\\Users\\Jay\\Desktop\\CV_Project\\Swimmer_Detections\\detection_20250509_221621_045430_frame_040680_20250509_034752_032688.jpg: index 0 is out of bounds for dimension 0 with size 0\n"
     ]
    },
    {
     "name": "stderr",
     "output_type": "stream",
     "text": [
      " 43%|█████████████████████████████████▏                                            | 1087/2556 [02:22<02:34,  9.49it/s]"
     ]
    },
    {
     "name": "stdout",
     "output_type": "stream",
     "text": [
      "[!] Failed processing C:\\Users\\Jay\\Desktop\\CV_Project\\Swimmer_Detections\\detection_20250509_221629_681821_frame_040887_20250509_034758_318056.jpg: index 0 is out of bounds for dimension 0 with size 0\n",
      "[!] Failed processing C:\\Users\\Jay\\Desktop\\CV_Project\\Swimmer_Detections\\detection_20250509_221629_929364_frame_040890_20250509_034758_416151.jpg: index 0 is out of bounds for dimension 0 with size 0\n"
     ]
    },
    {
     "name": "stderr",
     "output_type": "stream",
     "text": [
      " 43%|█████████████████████████████████▍                                            | 1095/2556 [02:23<02:52,  8.48it/s]"
     ]
    },
    {
     "name": "stdout",
     "output_type": "stream",
     "text": [
      "[!] Failed processing C:\\Users\\Jay\\Desktop\\CV_Project\\Swimmer_Detections\\detection_20250509_221637_354229_frame_041064_20250509_034803_703911.jpg: index 0 is out of bounds for dimension 0 with size 0\n"
     ]
    },
    {
     "name": "stderr",
     "output_type": "stream",
     "text": [
      " 43%|█████████████████████████████████▌                                            | 1100/2556 [02:24<02:52,  8.45it/s]"
     ]
    },
    {
     "name": "stdout",
     "output_type": "stream",
     "text": [
      "[!] Failed processing C:\\Users\\Jay\\Desktop\\CV_Project\\Swimmer_Detections\\detection_20250509_221647_855420_frame_041328_20250509_034812_032303.jpg: index 0 is out of bounds for dimension 0 with size 0\n"
     ]
    },
    {
     "name": "stderr",
     "output_type": "stream",
     "text": [
      " 43%|█████████████████████████████████▊                                            | 1107/2556 [02:25<02:57,  8.18it/s]"
     ]
    },
    {
     "name": "stdout",
     "output_type": "stream",
     "text": [
      "[!] Failed processing C:\\Users\\Jay\\Desktop\\CV_Project\\Swimmer_Detections\\detection_20250509_221724_545438_frame_042441_20250509_034850_430825.jpg: index 0 is out of bounds for dimension 0 with size 0\n"
     ]
    },
    {
     "name": "stderr",
     "output_type": "stream",
     "text": [
      " 44%|██████████████████████████████████▍                                           | 1127/2556 [02:27<02:30,  9.51it/s]"
     ]
    },
    {
     "name": "stdout",
     "output_type": "stream",
     "text": [
      "[!] Failed processing C:\\Users\\Jay\\Desktop\\CV_Project\\Swimmer_Detections\\detection_20250509_221747_444990_frame_043092_20250509_034911_649624.jpg: index 0 is out of bounds for dimension 0 with size 0\n",
      "[!] Failed processing C:\\Users\\Jay\\Desktop\\CV_Project\\Swimmer_Detections\\detection_20250509_221747_642407_frame_043095_20250509_034911_742491.jpg: index 0 is out of bounds for dimension 0 with size 0\n"
     ]
    },
    {
     "name": "stderr",
     "output_type": "stream",
     "text": [
      " 44%|██████████████████████████████████▌                                           | 1132/2556 [02:28<02:47,  8.51it/s]"
     ]
    },
    {
     "name": "stdout",
     "output_type": "stream",
     "text": [
      "[!] Failed processing C:\\Users\\Jay\\Desktop\\CV_Project\\Swimmer_Detections\\detection_20250509_221753_732224_frame_043263_20250509_034917_034482.jpg: index 0 is out of bounds for dimension 0 with size 0\n"
     ]
    },
    {
     "name": "stderr",
     "output_type": "stream",
     "text": [
      " 44%|██████████████████████████████████▌                                           | 1134/2556 [02:28<02:27,  9.61it/s]"
     ]
    },
    {
     "name": "stdout",
     "output_type": "stream",
     "text": [
      "[!] Failed processing C:\\Users\\Jay\\Desktop\\CV_Project\\Swimmer_Detections\\detection_20250509_221754_553129_frame_043281_20250509_034917_614247.jpg: index 0 is out of bounds for dimension 0 with size 0\n",
      "[!] Failed processing C:\\Users\\Jay\\Desktop\\CV_Project\\Swimmer_Detections\\detection_20250509_221754_756713_frame_043284_20250509_034917_709555.jpg: index 0 is out of bounds for dimension 0 with size 0\n"
     ]
    },
    {
     "name": "stderr",
     "output_type": "stream",
     "text": [
      " 46%|███████████████████████████████████▌                                          | 1164/2556 [02:32<02:29,  9.31it/s]"
     ]
    },
    {
     "name": "stdout",
     "output_type": "stream",
     "text": [
      "[!] Failed processing C:\\Users\\Jay\\Desktop\\CV_Project\\Swimmer_Detections\\detection_20250509_221817_546246_frame_043881_20250509_034937_112422.jpg: index 0 is out of bounds for dimension 0 with size 0\n",
      "[!] Failed processing C:\\Users\\Jay\\Desktop\\CV_Project\\Swimmer_Detections\\detection_20250509_221817_744687_frame_043884_20250509_034937_227834.jpg: index 0 is out of bounds for dimension 0 with size 0\n"
     ]
    },
    {
     "name": "stderr",
     "output_type": "stream",
     "text": [
      " 46%|███████████████████████████████████▉                                          | 1177/2556 [02:33<02:41,  8.54it/s]"
     ]
    },
    {
     "name": "stdout",
     "output_type": "stream",
     "text": [
      "[!] Failed processing C:\\Users\\Jay\\Desktop\\CV_Project\\Swimmer_Detections\\detection_20250509_221828_762415_frame_044169_20250509_034948_159762.jpg: index 0 is out of bounds for dimension 0 with size 0\n"
     ]
    },
    {
     "name": "stderr",
     "output_type": "stream",
     "text": [
      " 46%|████████████████████████████████████▏                                         | 1187/2556 [02:35<02:27,  9.27it/s]"
     ]
    },
    {
     "name": "stdout",
     "output_type": "stream",
     "text": [
      "[!] Failed processing C:\\Users\\Jay\\Desktop\\CV_Project\\Swimmer_Detections\\detection_20250509_221835_736248_frame_044343_20250509_034954_814222.jpg: index 0 is out of bounds for dimension 0 with size 0\n",
      "[!] Failed processing C:\\Users\\Jay\\Desktop\\CV_Project\\Swimmer_Detections\\detection_20250509_221844_442838_frame_044592_20250509_035004_257102.jpg: index 0 is out of bounds for dimension 0 with size 0\n"
     ]
    },
    {
     "name": "stderr",
     "output_type": "stream",
     "text": [
      " 47%|████████████████████████████████████▌                                         | 1198/2556 [02:36<02:34,  8.77it/s]"
     ]
    },
    {
     "name": "stdout",
     "output_type": "stream",
     "text": [
      "[!] Failed processing C:\\Users\\Jay\\Desktop\\CV_Project\\Swimmer_Detections\\detection_20250509_221910_782710_frame_045345_20250509_035032_957613.jpg: index 0 is out of bounds for dimension 0 with size 0\n"
     ]
    },
    {
     "name": "stderr",
     "output_type": "stream",
     "text": [
      " 47%|████████████████████████████████████▊                                         | 1206/2556 [02:37<02:37,  8.56it/s]"
     ]
    },
    {
     "name": "stdout",
     "output_type": "stream",
     "text": [
      "[!] Failed processing C:\\Users\\Jay\\Desktop\\CV_Project\\Swimmer_Detections\\detection_20250509_221930_499626_frame_048117_20250509_035146_764796.jpg: index 0 is out of bounds for dimension 0 with size 0\n"
     ]
    },
    {
     "name": "stderr",
     "output_type": "stream",
     "text": [
      " 47%|████████████████████████████████████▉                                         | 1210/2556 [02:37<02:43,  8.23it/s]"
     ]
    },
    {
     "name": "stdout",
     "output_type": "stream",
     "text": [
      "[!] Failed processing C:\\Users\\Jay\\Desktop\\CV_Project\\Swimmer_Detections\\detection_20250509_221936_994021_frame_048729_20250509_035202_859268.jpg: index 0 is out of bounds for dimension 0 with size 0\n"
     ]
    },
    {
     "name": "stderr",
     "output_type": "stream",
     "text": [
      " 51%|███████████████████████████████████████▍                                      | 1291/2556 [02:45<01:48, 11.66it/s]"
     ]
    },
    {
     "name": "stdout",
     "output_type": "stream",
     "text": [
      "[!] Failed processing C:\\Users\\Jay\\Desktop\\CV_Project\\Swimmer_Detections\\swimmer_20250509_215719_877744_frame_000126_20250509_032651_197409_0.jpg: index 0 is out of bounds for dimension 0 with size 0\n",
      "[!] Failed processing C:\\Users\\Jay\\Desktop\\CV_Project\\Swimmer_Detections\\swimmer_20250509_215720_139984_frame_000129_20250509_032651_319856_0.jpg: index 0 is out of bounds for dimension 0 with size 0\n"
     ]
    },
    {
     "name": "stderr",
     "output_type": "stream",
     "text": [
      " 51%|███████████████████████████████████████▋                                      | 1301/2556 [02:46<01:52, 11.16it/s]"
     ]
    },
    {
     "name": "stdout",
     "output_type": "stream",
     "text": [
      "[!] Failed processing C:\\Users\\Jay\\Desktop\\CV_Project\\Swimmer_Detections\\swimmer_20250509_215725_752852_frame_000276_20250509_032656_542899_0.jpg: index 0 is out of bounds for dimension 0 with size 0\n"
     ]
    },
    {
     "name": "stderr",
     "output_type": "stream",
     "text": [
      " 52%|████████████████████████████████████████▎                                     | 1323/2556 [02:48<01:45, 11.71it/s]"
     ]
    },
    {
     "name": "stdout",
     "output_type": "stream",
     "text": [
      "[!] Failed processing C:\\Users\\Jay\\Desktop\\CV_Project\\Swimmer_Detections\\swimmer_20250509_215805_853161_frame_001446_20250509_032734_288152_0.jpg: index 0 is out of bounds for dimension 0 with size 0\n",
      "[!] Failed processing C:\\Users\\Jay\\Desktop\\CV_Project\\Swimmer_Detections\\swimmer_20250509_215806_323694_frame_001458_20250509_032734_693169_0.jpg: index 0 is out of bounds for dimension 0 with size 0\n"
     ]
    },
    {
     "name": "stderr",
     "output_type": "stream",
     "text": [
      " 52%|████████████████████████████████████████▍                                     | 1327/2556 [02:48<01:35, 12.90it/s]"
     ]
    },
    {
     "name": "stdout",
     "output_type": "stream",
     "text": [
      "[!] Failed processing C:\\Users\\Jay\\Desktop\\CV_Project\\Swimmer_Detections\\swimmer_20250509_215812_961295_frame_001653_20250509_032741_981320_0.jpg: index 0 is out of bounds for dimension 0 with size 0\n",
      "[!] Failed processing C:\\Users\\Jay\\Desktop\\CV_Project\\Swimmer_Detections\\swimmer_20250509_215813_250606_frame_001659_20250509_032742_198923_0.jpg: index 0 is out of bounds for dimension 0 with size 0\n"
     ]
    },
    {
     "name": "stderr",
     "output_type": "stream",
     "text": [
      " 55%|██████████████████████████████████████████▋                                   | 1399/2556 [02:54<01:24, 13.64it/s]"
     ]
    },
    {
     "name": "stdout",
     "output_type": "stream",
     "text": [
      "[!] Failed processing C:\\Users\\Jay\\Desktop\\CV_Project\\Swimmer_Detections\\swimmer_20250509_220008_653989_frame_005064_20250509_032936_412702_0.jpg: index 0 is out of bounds for dimension 0 with size 0\n"
     ]
    },
    {
     "name": "stderr",
     "output_type": "stream",
     "text": [
      " 55%|██████████████████████████████████████████▉                                   | 1405/2556 [02:55<01:32, 12.38it/s]"
     ]
    },
    {
     "name": "stdout",
     "output_type": "stream",
     "text": [
      "[!] Failed processing C:\\Users\\Jay\\Desktop\\CV_Project\\Swimmer_Detections\\swimmer_20250509_220010_339041_frame_005088_20250509_032937_326820_0.jpg: index 0 is out of bounds for dimension 0 with size 0\n",
      "[!] Failed processing C:\\Users\\Jay\\Desktop\\CV_Project\\Swimmer_Detections\\swimmer_20250509_220010_562134_frame_005091_20250509_032937_444739_0.jpg: index 0 is out of bounds for dimension 0 with size 0\n"
     ]
    },
    {
     "name": "stderr",
     "output_type": "stream",
     "text": [
      " 55%|██████████████████████████████████████████▉                                   | 1409/2556 [02:55<01:40, 11.44it/s]"
     ]
    },
    {
     "name": "stdout",
     "output_type": "stream",
     "text": [
      "[!] Failed processing C:\\Users\\Jay\\Desktop\\CV_Project\\Swimmer_Detections\\swimmer_20250509_220017_371350_frame_005283_20250509_032944_863760_0.jpg: index 0 is out of bounds for dimension 0 with size 0\n"
     ]
    },
    {
     "name": "stderr",
     "output_type": "stream",
     "text": [
      " 56%|███████████████████████████████████████████▋                                  | 1431/2556 [02:57<01:24, 13.24it/s]"
     ]
    },
    {
     "name": "stdout",
     "output_type": "stream",
     "text": [
      "[!] Failed processing C:\\Users\\Jay\\Desktop\\CV_Project\\Swimmer_Detections\\swimmer_20250509_220037_564386_frame_005823_20250509_033005_037422_1.jpg: index 0 is out of bounds for dimension 0 with size 0\n",
      "[!] Failed processing C:\\Users\\Jay\\Desktop\\CV_Project\\Swimmer_Detections\\swimmer_20250509_220037_809832_frame_005826_20250509_033005_157868_1.jpg: index 0 is out of bounds for dimension 0 with size 0\n"
     ]
    },
    {
     "name": "stderr",
     "output_type": "stream",
     "text": [
      " 56%|███████████████████████████████████████████▊                                  | 1437/2556 [02:57<01:25, 13.10it/s]"
     ]
    },
    {
     "name": "stdout",
     "output_type": "stream",
     "text": [
      "[!] Failed processing C:\\Users\\Jay\\Desktop\\CV_Project\\Swimmer_Detections\\swimmer_20250509_220038_251901_frame_005832_20250509_033005_400856_1.jpg: index 0 is out of bounds for dimension 0 with size 0\n"
     ]
    },
    {
     "name": "stderr",
     "output_type": "stream",
     "text": [
      " 57%|████████████████████████████████████████████                                  | 1445/2556 [02:58<01:25, 12.94it/s]"
     ]
    },
    {
     "name": "stdout",
     "output_type": "stream",
     "text": [
      "[!] Failed processing C:\\Users\\Jay\\Desktop\\CV_Project\\Swimmer_Detections\\swimmer_20250509_220050_133260_frame_006147_20250509_033017_647221_0.jpg: index 0 is out of bounds for dimension 0 with size 0\n",
      "[!] Failed processing C:\\Users\\Jay\\Desktop\\CV_Project\\Swimmer_Detections\\swimmer_20250509_220050_380025_frame_006150_20250509_033017_762710_0.jpg: index 0 is out of bounds for dimension 0 with size 0\n",
      "[!] Failed processing C:\\Users\\Jay\\Desktop\\CV_Project\\Swimmer_Detections\\swimmer_20250509_220050_640371_frame_006153_20250509_033017_882864_0.jpg: index 0 is out of bounds for dimension 0 with size 0\n"
     ]
    },
    {
     "name": "stderr",
     "output_type": "stream",
     "text": [
      " 57%|████████████████████████████████████████████▎                                 | 1453/2556 [02:58<01:29, 12.33it/s]"
     ]
    },
    {
     "name": "stdout",
     "output_type": "stream",
     "text": [
      "[!] Failed processing C:\\Users\\Jay\\Desktop\\CV_Project\\Swimmer_Detections\\swimmer_20250509_220112_860277_frame_006789_20250509_033041_665459_0.jpg: index 0 is out of bounds for dimension 0 with size 0\n",
      "[!] Failed processing C:\\Users\\Jay\\Desktop\\CV_Project\\Swimmer_Detections\\swimmer_20250509_220113_077076_frame_006792_20250509_033041_774763_0.jpg: index 0 is out of bounds for dimension 0 with size 0\n"
     ]
    },
    {
     "name": "stderr",
     "output_type": "stream",
     "text": [
      " 57%|████████████████████████████████████████████▍                                 | 1457/2556 [02:59<01:32, 11.82it/s]"
     ]
    },
    {
     "name": "stdout",
     "output_type": "stream",
     "text": [
      "[!] Failed processing C:\\Users\\Jay\\Desktop\\CV_Project\\Swimmer_Detections\\swimmer_20250509_220116_819769_frame_006891_20250509_033045_446822_0.jpg: index 0 is out of bounds for dimension 0 with size 0\n",
      "[!] Failed processing C:\\Users\\Jay\\Desktop\\CV_Project\\Swimmer_Detections\\swimmer_20250509_220117_247102_frame_006900_20250509_033045_784493_0.jpg: index 0 is out of bounds for dimension 0 with size 0\n"
     ]
    },
    {
     "name": "stderr",
     "output_type": "stream",
     "text": [
      " 57%|████████████████████████████████████████████▊                                 | 1467/2556 [03:00<01:24, 12.85it/s]"
     ]
    },
    {
     "name": "stdout",
     "output_type": "stream",
     "text": [
      "[!] Failed processing C:\\Users\\Jay\\Desktop\\CV_Project\\Swimmer_Detections\\swimmer_20250509_220121_741677_frame_007014_20250509_033049_339347_2.jpg: index 0 is out of bounds for dimension 0 with size 0\n"
     ]
    },
    {
     "name": "stderr",
     "output_type": "stream",
     "text": [
      " 58%|█████████████████████████████████████████████▍                                | 1487/2556 [03:01<01:31, 11.71it/s]"
     ]
    },
    {
     "name": "stdout",
     "output_type": "stream",
     "text": [
      "[!] Failed processing C:\\Users\\Jay\\Desktop\\CV_Project\\Swimmer_Detections\\swimmer_20250509_220124_742958_frame_007047_20250509_033050_356352_1.jpg: index 0 is out of bounds for dimension 0 with size 0\n"
     ]
    },
    {
     "name": "stderr",
     "output_type": "stream",
     "text": [
      " 58%|█████████████████████████████████████████████▌                                | 1491/2556 [03:01<01:27, 12.24it/s]"
     ]
    },
    {
     "name": "stdout",
     "output_type": "stream",
     "text": [
      "[!] Failed processing C:\\Users\\Jay\\Desktop\\CV_Project\\Swimmer_Detections\\swimmer_20250509_220125_318879_frame_007053_20250509_033050_540304_0.jpg: index 0 is out of bounds for dimension 0 with size 0\n"
     ]
    },
    {
     "name": "stderr",
     "output_type": "stream",
     "text": [
      " 59%|█████████████████████████████████████████████▋                                | 1497/2556 [03:02<01:22, 12.88it/s]"
     ]
    },
    {
     "name": "stdout",
     "output_type": "stream",
     "text": [
      "[!] Failed processing C:\\Users\\Jay\\Desktop\\CV_Project\\Swimmer_Detections\\swimmer_20250509_220125_983725_frame_007059_20250509_033050_725365_0.jpg: index 0 is out of bounds for dimension 0 with size 0\n"
     ]
    },
    {
     "name": "stderr",
     "output_type": "stream",
     "text": [
      " 59%|█████████████████████████████████████████████▊                                | 1503/2556 [03:02<01:20, 13.09it/s]"
     ]
    },
    {
     "name": "stdout",
     "output_type": "stream",
     "text": [
      "[!] Failed processing C:\\Users\\Jay\\Desktop\\CV_Project\\Swimmer_Detections\\swimmer_20250509_220126_333362_frame_007062_20250509_033050_824797_2.jpg: index 0 is out of bounds for dimension 0 with size 0\n"
     ]
    },
    {
     "name": "stderr",
     "output_type": "stream",
     "text": [
      " 60%|██████████████████████████████████████████████▊                               | 1535/2556 [03:05<01:33, 10.90it/s]"
     ]
    },
    {
     "name": "stdout",
     "output_type": "stream",
     "text": [
      "[!] Failed processing C:\\Users\\Jay\\Desktop\\CV_Project\\Swimmer_Detections\\swimmer_20250509_220139_369142_frame_007299_20250509_033058_407581_0.jpg: index 0 is out of bounds for dimension 0 with size 0\n",
      "[!] Failed processing C:\\Users\\Jay\\Desktop\\CV_Project\\Swimmer_Detections\\swimmer_20250509_220139_574936_frame_007302_20250509_033058_517816_0.jpg: index 0 is out of bounds for dimension 0 with size 0\n",
      "[!] Failed processing C:\\Users\\Jay\\Desktop\\CV_Project\\Swimmer_Detections\\swimmer_20250509_220139_871053_frame_007308_20250509_033058_718997_0.jpg: index 0 is out of bounds for dimension 0 with size 0\n"
     ]
    },
    {
     "name": "stderr",
     "output_type": "stream",
     "text": [
      " 62%|████████████████████████████████████████████████▎                             | 1585/2556 [03:09<01:22, 11.76it/s]"
     ]
    },
    {
     "name": "stdout",
     "output_type": "stream",
     "text": [
      "[!] Failed processing C:\\Users\\Jay\\Desktop\\CV_Project\\Swimmer_Detections\\swimmer_20250509_220212_707498_frame_012153_20250509_033301_393489_2.jpg: index 0 is out of bounds for dimension 0 with size 0\n"
     ]
    },
    {
     "name": "stderr",
     "output_type": "stream",
     "text": [
      " 62%|████████████████████████████████████████████████▌                             | 1593/2556 [03:10<01:11, 13.51it/s]"
     ]
    },
    {
     "name": "stdout",
     "output_type": "stream",
     "text": [
      "[!] Failed processing C:\\Users\\Jay\\Desktop\\CV_Project\\Swimmer_Detections\\swimmer_20250509_220214_154971_frame_012174_20250509_033301_993168_0.jpg: index 0 is out of bounds for dimension 0 with size 0\n"
     ]
    },
    {
     "name": "stderr",
     "output_type": "stream",
     "text": [
      " 63%|█████████████████████████████████████████████████                             | 1609/2556 [03:11<01:15, 12.56it/s]"
     ]
    },
    {
     "name": "stdout",
     "output_type": "stream",
     "text": [
      "[!] Failed processing C:\\Users\\Jay\\Desktop\\CV_Project\\Swimmer_Detections\\swimmer_20250509_220234_278179_frame_012744_20250509_033320_802513_0.jpg: index 0 is out of bounds for dimension 0 with size 0\n"
     ]
    },
    {
     "name": "stderr",
     "output_type": "stream",
     "text": [
      " 64%|█████████████████████████████████████████████████▋                            | 1629/2556 [03:13<01:20, 11.58it/s]"
     ]
    },
    {
     "name": "stdout",
     "output_type": "stream",
     "text": [
      "[!] Failed processing C:\\Users\\Jay\\Desktop\\CV_Project\\Swimmer_Detections\\swimmer_20250509_220311_047117_frame_013794_20250509_033356_089721_0.jpg: index 0 is out of bounds for dimension 0 with size 0\n"
     ]
    },
    {
     "name": "stderr",
     "output_type": "stream",
     "text": [
      " 65%|██████████████████████████████████████████████████▍                           | 1651/2556 [03:15<01:24, 10.73it/s]"
     ]
    },
    {
     "name": "stdout",
     "output_type": "stream",
     "text": [
      "[!] Failed processing C:\\Users\\Jay\\Desktop\\CV_Project\\Swimmer_Detections\\swimmer_20250509_220319_514635_frame_013968_20250509_033402_305536_0.jpg: index 0 is out of bounds for dimension 0 with size 0\n"
     ]
    },
    {
     "name": "stderr",
     "output_type": "stream",
     "text": [
      " 65%|███████████████████████████████████████████████████                           | 1673/2556 [03:17<01:10, 12.46it/s]"
     ]
    },
    {
     "name": "stdout",
     "output_type": "stream",
     "text": [
      "[!] Failed processing C:\\Users\\Jay\\Desktop\\CV_Project\\Swimmer_Detections\\swimmer_20250509_220352_643441_frame_014856_20250509_033432_071179_0.jpg: index 0 is out of bounds for dimension 0 with size 0\n",
      "[!] Failed processing C:\\Users\\Jay\\Desktop\\CV_Project\\Swimmer_Detections\\swimmer_20250509_220353_078303_frame_014865_20250509_033432_400149_0.jpg: index 0 is out of bounds for dimension 0 with size 0\n"
     ]
    },
    {
     "name": "stderr",
     "output_type": "stream",
     "text": [
      " 66%|███████████████████████████████████████████████████                           | 1675/2556 [03:17<01:10, 12.55it/s]"
     ]
    },
    {
     "name": "stdout",
     "output_type": "stream",
     "text": [
      "[!] Failed processing C:\\Users\\Jay\\Desktop\\CV_Project\\Swimmer_Detections\\swimmer_20250509_220353_292006_frame_014868_20250509_033432_507655_0.jpg: index 0 is out of bounds for dimension 0 with size 0\n"
     ]
    },
    {
     "name": "stderr",
     "output_type": "stream",
     "text": [
      " 66%|███████████████████████████████████████████████████▍                          | 1685/2556 [03:18<01:15, 11.50it/s]"
     ]
    },
    {
     "name": "stdout",
     "output_type": "stream",
     "text": [
      "[!] Failed processing C:\\Users\\Jay\\Desktop\\CV_Project\\Swimmer_Detections\\swimmer_20250509_220359_773983_frame_015027_20250509_033437_705032_0.jpg: index 0 is out of bounds for dimension 0 with size 0\n",
      "[!] Failed processing C:\\Users\\Jay\\Desktop\\CV_Project\\Swimmer_Detections\\swimmer_20250509_220359_978128_frame_015030_20250509_033437_804104_0.jpg: index 0 is out of bounds for dimension 0 with size 0\n"
     ]
    },
    {
     "name": "stderr",
     "output_type": "stream",
     "text": [
      " 67%|████████████████████████████████████████████████████                          | 1705/2556 [03:19<01:06, 12.83it/s]"
     ]
    },
    {
     "name": "stdout",
     "output_type": "stream",
     "text": [
      "[!] Failed processing C:\\Users\\Jay\\Desktop\\CV_Project\\Swimmer_Detections\\swimmer_20250509_220426_837129_frame_015738_20250509_033459_891111_0.jpg: index 0 is out of bounds for dimension 0 with size 0\n",
      "[!] Failed processing C:\\Users\\Jay\\Desktop\\CV_Project\\Swimmer_Detections\\swimmer_20250509_220427_706334_frame_015756_20250509_033500_512779_0.jpg: index 0 is out of bounds for dimension 0 with size 0\n"
     ]
    },
    {
     "name": "stderr",
     "output_type": "stream",
     "text": [
      " 69%|█████████████████████████████████████████████████████▍                        | 1753/2556 [03:23<01:03, 12.66it/s]"
     ]
    },
    {
     "name": "stdout",
     "output_type": "stream",
     "text": [
      "[!] Failed processing C:\\Users\\Jay\\Desktop\\CV_Project\\Swimmer_Detections\\swimmer_20250509_220452_899697_frame_016368_20250509_033520_936871_1.jpg: index 0 is out of bounds for dimension 0 with size 0\n"
     ]
    },
    {
     "name": "stderr",
     "output_type": "stream",
     "text": [
      " 69%|█████████████████████████████████████████████████████▋                        | 1761/2556 [03:24<01:04, 12.36it/s]"
     ]
    },
    {
     "name": "stdout",
     "output_type": "stream",
     "text": [
      "[!] Failed processing C:\\Users\\Jay\\Desktop\\CV_Project\\Swimmer_Detections\\swimmer_20250509_220454_829040_frame_016395_20250509_033521_841172_1.jpg: index 0 is out of bounds for dimension 0 with size 0\n"
     ]
    },
    {
     "name": "stderr",
     "output_type": "stream",
     "text": [
      " 71%|███████████████████████████████████████████████████████                       | 1803/2556 [03:27<01:02, 12.09it/s]"
     ]
    },
    {
     "name": "stdout",
     "output_type": "stream",
     "text": [
      "[!] Failed processing C:\\Users\\Jay\\Desktop\\CV_Project\\Swimmer_Detections\\swimmer_20250509_220523_465765_frame_017112_20250509_033545_666979_0.jpg: index 0 is out of bounds for dimension 0 with size 0\n"
     ]
    },
    {
     "name": "stderr",
     "output_type": "stream",
     "text": [
      " 71%|███████████████████████████████████████████████████████                       | 1805/2556 [03:27<01:05, 11.49it/s]"
     ]
    },
    {
     "name": "stdout",
     "output_type": "stream",
     "text": [
      "[!] Failed processing C:\\Users\\Jay\\Desktop\\CV_Project\\Swimmer_Detections\\swimmer_20250509_220524_218750_frame_017124_20250509_033546_101721_0.jpg: index 0 is out of bounds for dimension 0 with size 0\n"
     ]
    },
    {
     "name": "stderr",
     "output_type": "stream",
     "text": [
      " 71%|███████████████████████████████████████████████████████▏                      | 1807/2556 [03:27<01:07, 11.17it/s]"
     ]
    },
    {
     "name": "stdout",
     "output_type": "stream",
     "text": [
      "[!] Failed processing C:\\Users\\Jay\\Desktop\\CV_Project\\Swimmer_Detections\\swimmer_20250509_220525_221325_frame_017142_20250509_033546_777897_0.jpg: index 0 is out of bounds for dimension 0 with size 0\n",
      "[!] Failed processing C:\\Users\\Jay\\Desktop\\CV_Project\\Swimmer_Detections\\swimmer_20250509_220525_466384_frame_017145_20250509_033546_887516_0.jpg: index 0 is out of bounds for dimension 0 with size 0\n"
     ]
    },
    {
     "name": "stderr",
     "output_type": "stream",
     "text": [
      " 71%|███████████████████████████████████████████████████████▍                      | 1815/2556 [03:28<01:09, 10.69it/s]"
     ]
    },
    {
     "name": "stdout",
     "output_type": "stream",
     "text": [
      "[!] Failed processing C:\\Users\\Jay\\Desktop\\CV_Project\\Swimmer_Detections\\swimmer_20250509_220526_008044_frame_017151_20250509_033547_106205_2.jpg: index 0 is out of bounds for dimension 0 with size 0\n",
      "[!] Failed processing C:\\Users\\Jay\\Desktop\\CV_Project\\Swimmer_Detections\\swimmer_20250509_220526_272016_frame_017154_20250509_033547_218977_1.jpg: index 0 is out of bounds for dimension 0 with size 0\n"
     ]
    },
    {
     "name": "stderr",
     "output_type": "stream",
     "text": [
      " 72%|████████████████████████████████████████████████████████▏                     | 1841/2556 [03:30<00:53, 13.28it/s]"
     ]
    },
    {
     "name": "stdout",
     "output_type": "stream",
     "text": [
      "[!] Failed processing C:\\Users\\Jay\\Desktop\\CV_Project\\Swimmer_Detections\\swimmer_20250509_220559_827605_frame_018237_20250509_033626_519553_0.jpg: index 0 is out of bounds for dimension 0 with size 0\n"
     ]
    },
    {
     "name": "stderr",
     "output_type": "stream",
     "text": [
      " 72%|████████████████████████████████████████████████████████▎                     | 1847/2556 [03:31<00:53, 13.13it/s]"
     ]
    },
    {
     "name": "stdout",
     "output_type": "stream",
     "text": [
      "[!] Failed processing C:\\Users\\Jay\\Desktop\\CV_Project\\Swimmer_Detections\\swimmer_20250509_220622_769645_frame_018891_20250509_033647_871420_0.jpg: index 0 is out of bounds for dimension 0 with size 0\n",
      "[!] Failed processing C:\\Users\\Jay\\Desktop\\CV_Project\\Swimmer_Detections\\swimmer_20250509_220622_981002_frame_018894_20250509_033647_972133_0.jpg: index 0 is out of bounds for dimension 0 with size 0\n"
     ]
    },
    {
     "name": "stderr",
     "output_type": "stream",
     "text": [
      " 73%|████████████████████████████████████████████████████████▌                     | 1855/2556 [03:31<00:58, 12.06it/s]"
     ]
    },
    {
     "name": "stdout",
     "output_type": "stream",
     "text": [
      "[!] Failed processing C:\\Users\\Jay\\Desktop\\CV_Project\\Swimmer_Detections\\swimmer_20250509_220625_037643_frame_018927_20250509_033649_086799_0.jpg: index 0 is out of bounds for dimension 0 with size 0\n",
      "[!] Failed processing C:\\Users\\Jay\\Desktop\\CV_Project\\Swimmer_Detections\\swimmer_20250509_220627_901593_frame_019005_20250509_033651_467056_0.jpg: index 0 is out of bounds for dimension 0 with size 0\n"
     ]
    },
    {
     "name": "stderr",
     "output_type": "stream",
     "text": [
      " 73%|████████████████████████████████████████████████████████▊                     | 1861/2556 [03:32<00:58, 11.97it/s]"
     ]
    },
    {
     "name": "stdout",
     "output_type": "stream",
     "text": [
      "[!] Failed processing C:\\Users\\Jay\\Desktop\\CV_Project\\Swimmer_Detections\\swimmer_20250509_220629_712549_frame_019044_20250509_033652_650877_0.jpg: index 0 is out of bounds for dimension 0 with size 0\n",
      "[!] Failed processing C:\\Users\\Jay\\Desktop\\CV_Project\\Swimmer_Detections\\swimmer_20250509_220629_901337_frame_019047_20250509_033652_730739_0.jpg: index 0 is out of bounds for dimension 0 with size 0\n"
     ]
    },
    {
     "name": "stderr",
     "output_type": "stream",
     "text": [
      " 74%|█████████████████████████████████████████████████████████▋                    | 1889/2556 [03:34<00:54, 12.16it/s]"
     ]
    },
    {
     "name": "stdout",
     "output_type": "stream",
     "text": [
      "[!] Failed processing C:\\Users\\Jay\\Desktop\\CV_Project\\Swimmer_Detections\\swimmer_20250509_220703_928019_frame_019971_20250509_033722_323908_0.jpg: index 0 is out of bounds for dimension 0 with size 0\n",
      "[!] Failed processing C:\\Users\\Jay\\Desktop\\CV_Project\\Swimmer_Detections\\swimmer_20250509_220705_529043_frame_020013_20250509_033723_642090_0.jpg: index 0 is out of bounds for dimension 0 with size 0\n",
      "[!] Failed processing C:\\Users\\Jay\\Desktop\\CV_Project\\Swimmer_Detections\\swimmer_20250509_220705_755582_frame_020016_20250509_033723_737374_0.jpg: index 0 is out of bounds for dimension 0 with size 0\n"
     ]
    },
    {
     "name": "stderr",
     "output_type": "stream",
     "text": [
      " 74%|█████████████████████████████████████████████████████████▋                    | 1891/2556 [03:34<00:56, 11.82it/s]"
     ]
    },
    {
     "name": "stdout",
     "output_type": "stream",
     "text": [
      "[!] Failed processing C:\\Users\\Jay\\Desktop\\CV_Project\\Swimmer_Detections\\swimmer_20250509_220706_118084_frame_020022_20250509_033723_917902_0.jpg: index 0 is out of bounds for dimension 0 with size 0\n",
      "[!] Failed processing C:\\Users\\Jay\\Desktop\\CV_Project\\Swimmer_Detections\\swimmer_20250509_220706_501580_frame_020028_20250509_033724_094888_0.jpg: index 0 is out of bounds for dimension 0 with size 0\n"
     ]
    },
    {
     "name": "stderr",
     "output_type": "stream",
     "text": [
      " 75%|██████████████████████████████████████████████████████████▎                   | 1909/2556 [03:36<00:55, 11.57it/s]"
     ]
    },
    {
     "name": "stdout",
     "output_type": "stream",
     "text": [
      "[!] Failed processing C:\\Users\\Jay\\Desktop\\CV_Project\\Swimmer_Detections\\swimmer_20250509_220718_760160_frame_020343_20250509_033733_697375_0.jpg: index 0 is out of bounds for dimension 0 with size 0\n"
     ]
    },
    {
     "name": "stderr",
     "output_type": "stream",
     "text": [
      " 75%|██████████████████████████████████████████████████████████▍                   | 1913/2556 [03:36<00:54, 11.88it/s]"
     ]
    },
    {
     "name": "stdout",
     "output_type": "stream",
     "text": [
      "[!] Failed processing C:\\Users\\Jay\\Desktop\\CV_Project\\Swimmer_Detections\\swimmer_20250509_220720_445120_frame_020376_20250509_033734_765989_0.jpg: index 0 is out of bounds for dimension 0 with size 0\n"
     ]
    },
    {
     "name": "stderr",
     "output_type": "stream",
     "text": [
      " 75%|██████████████████████████████████████████████████████████▌                   | 1919/2556 [03:37<00:47, 13.42it/s]"
     ]
    },
    {
     "name": "stdout",
     "output_type": "stream",
     "text": [
      "[!] Failed processing C:\\Users\\Jay\\Desktop\\CV_Project\\Swimmer_Detections\\swimmer_20250509_220735_300518_frame_020838_20250509_033749_454167_0.jpg: index 0 is out of bounds for dimension 0 with size 0\n"
     ]
    },
    {
     "name": "stderr",
     "output_type": "stream",
     "text": [
      " 76%|██████████████████████████████████████████████████████████▉                   | 1933/2556 [03:38<00:58, 10.61it/s]"
     ]
    },
    {
     "name": "stdout",
     "output_type": "stream",
     "text": [
      "[!] Failed processing C:\\Users\\Jay\\Desktop\\CV_Project\\Swimmer_Detections\\swimmer_20250509_220815_188271_frame_021984_20250509_033825_296791_0.jpg: index 0 is out of bounds for dimension 0 with size 0\n"
     ]
    },
    {
     "name": "stderr",
     "output_type": "stream",
     "text": [
      " 76%|███████████████████████████████████████████████████████████▏                  | 1941/2556 [03:39<00:56, 10.88it/s]"
     ]
    },
    {
     "name": "stdout",
     "output_type": "stream",
     "text": [
      "[!] Failed processing C:\\Users\\Jay\\Desktop\\CV_Project\\Swimmer_Detections\\swimmer_20250509_220817_548670_frame_022152_20250509_033829_441093_0.jpg: index 0 is out of bounds for dimension 0 with size 0\n",
      "[!] Failed processing C:\\Users\\Jay\\Desktop\\CV_Project\\Swimmer_Detections\\swimmer_20250509_220817_940776_frame_022158_20250509_033829_620986_0.jpg: index 0 is out of bounds for dimension 0 with size 0\n"
     ]
    },
    {
     "name": "stderr",
     "output_type": "stream",
     "text": [
      " 76%|███████████████████████████████████████████████████████████▌                  | 1951/2556 [03:40<00:52, 11.54it/s]"
     ]
    },
    {
     "name": "stdout",
     "output_type": "stream",
     "text": [
      "[!] Failed processing C:\\Users\\Jay\\Desktop\\CV_Project\\Swimmer_Detections\\swimmer_20250509_220819_858465_frame_022188_20250509_033830_534677_0.jpg: index 0 is out of bounds for dimension 0 with size 0\n",
      "[!] Failed processing C:\\Users\\Jay\\Desktop\\CV_Project\\Swimmer_Detections\\swimmer_20250509_220820_068550_frame_022191_20250509_033830_626066_0.jpg: index 0 is out of bounds for dimension 0 with size 0\n"
     ]
    },
    {
     "name": "stderr",
     "output_type": "stream",
     "text": [
      " 76%|███████████████████████████████████████████████████████████▋                  | 1955/2556 [03:40<00:53, 11.19it/s]"
     ]
    },
    {
     "name": "stdout",
     "output_type": "stream",
     "text": [
      "[!] Failed processing C:\\Users\\Jay\\Desktop\\CV_Project\\Swimmer_Detections\\swimmer_20250509_220820_797856_frame_022203_20250509_033830_986271_0.jpg: index 0 is out of bounds for dimension 0 with size 0\n"
     ]
    },
    {
     "name": "stderr",
     "output_type": "stream",
     "text": [
      " 77%|████████████████████████████████████████████████████████████                  | 1967/2556 [03:41<00:49, 11.99it/s]"
     ]
    },
    {
     "name": "stdout",
     "output_type": "stream",
     "text": [
      "[!] Failed processing C:\\Users\\Jay\\Desktop\\CV_Project\\Swimmer_Detections\\swimmer_20250509_220823_365794_frame_022245_20250509_033832_302115_0.jpg: index 0 is out of bounds for dimension 0 with size 0\n"
     ]
    },
    {
     "name": "stderr",
     "output_type": "stream",
     "text": [
      " 77%|████████████████████████████████████████████████████████████▏                 | 1971/2556 [03:41<00:49, 11.80it/s]"
     ]
    },
    {
     "name": "stdout",
     "output_type": "stream",
     "text": [
      "[!] Failed processing C:\\Users\\Jay\\Desktop\\CV_Project\\Swimmer_Detections\\swimmer_20250509_220823_996635_frame_022254_20250509_033832_583847_0.jpg: index 0 is out of bounds for dimension 0 with size 0\n"
     ]
    },
    {
     "name": "stderr",
     "output_type": "stream",
     "text": [
      " 78%|████████████████████████████████████████████████████████████▉                 | 1997/2556 [03:44<00:52, 10.67it/s]"
     ]
    },
    {
     "name": "stdout",
     "output_type": "stream",
     "text": [
      "[!] Failed processing C:\\Users\\Jay\\Desktop\\CV_Project\\Swimmer_Detections\\swimmer_20250509_220834_954888_frame_022626_20250509_033844_857299_0.jpg: index 0 is out of bounds for dimension 0 with size 0\n"
     ]
    },
    {
     "name": "stderr",
     "output_type": "stream",
     "text": [
      " 78%|█████████████████████████████████████████████████████████████▏                | 2005/2556 [03:45<00:48, 11.41it/s]"
     ]
    },
    {
     "name": "stdout",
     "output_type": "stream",
     "text": [
      "[!] Failed processing C:\\Users\\Jay\\Desktop\\CV_Project\\Swimmer_Detections\\swimmer_20250509_220836_649745_frame_022650_20250509_033845_710794_0.jpg: index 0 is out of bounds for dimension 0 with size 0\n",
      "[!] Failed processing C:\\Users\\Jay\\Desktop\\CV_Project\\Swimmer_Detections\\swimmer_20250509_220836_873229_frame_022662_20250509_033845_994858_0.jpg: index 0 is out of bounds for dimension 0 with size 0\n"
     ]
    },
    {
     "name": "stderr",
     "output_type": "stream",
     "text": [
      " 79%|█████████████████████████████████████████████████████████████▍                | 2015/2556 [03:46<00:47, 11.28it/s]"
     ]
    },
    {
     "name": "stdout",
     "output_type": "stream",
     "text": [
      "[!] Failed processing C:\\Users\\Jay\\Desktop\\CV_Project\\Swimmer_Detections\\swimmer_20250509_220839_428786_frame_022698_20250509_033847_094915_0.jpg: index 0 is out of bounds for dimension 0 with size 0\n"
     ]
    },
    {
     "name": "stderr",
     "output_type": "stream",
     "text": [
      " 81%|██████████████████████████████████████████████████████████████▊               | 2058/2556 [03:50<00:41, 11.87it/s]"
     ]
    },
    {
     "name": "stdout",
     "output_type": "stream",
     "text": [
      "[!] Failed processing C:\\Users\\Jay\\Desktop\\CV_Project\\Swimmer_Detections\\swimmer_20250509_220853_363336_frame_022965_20250509_033855_628689_0.jpg: index 0 is out of bounds for dimension 0 with size 0\n",
      "[!] Failed processing C:\\Users\\Jay\\Desktop\\CV_Project\\Swimmer_Detections\\swimmer_20250509_220853_566998_frame_022968_20250509_033855_723563_0.jpg: index 0 is out of bounds for dimension 0 with size 0\n",
      "[!] Failed processing C:\\Users\\Jay\\Desktop\\CV_Project\\Swimmer_Detections\\swimmer_20250509_220853_774143_frame_022971_20250509_033855_821875_0.jpg: index 0 is out of bounds for dimension 0 with size 0\n"
     ]
    },
    {
     "name": "stderr",
     "output_type": "stream",
     "text": [
      " 81%|██████████████████████████████████████████████████████████████▊               | 2060/2556 [03:50<00:40, 12.29it/s]"
     ]
    },
    {
     "name": "stdout",
     "output_type": "stream",
     "text": [
      "[!] Failed processing C:\\Users\\Jay\\Desktop\\CV_Project\\Swimmer_Detections\\swimmer_20250509_220854_189754_frame_022977_20250509_033856_014165_0.jpg: index 0 is out of bounds for dimension 0 with size 0\n"
     ]
    },
    {
     "name": "stderr",
     "output_type": "stream",
     "text": [
      " 81%|███████████████████████████████████████████████████████████████▎              | 2074/2556 [03:51<00:38, 12.45it/s]"
     ]
    },
    {
     "name": "stdout",
     "output_type": "stream",
     "text": [
      "[!] Failed processing C:\\Users\\Jay\\Desktop\\CV_Project\\Swimmer_Detections\\swimmer_20250509_220857_330425_frame_023025_20250509_033857_658457_0.jpg: index 0 is out of bounds for dimension 0 with size 0\n"
     ]
    },
    {
     "name": "stderr",
     "output_type": "stream",
     "text": [
      " 83%|████████████████████████████████████████████████████████████████▌             | 2114/2556 [03:55<00:36, 11.99it/s]"
     ]
    },
    {
     "name": "stdout",
     "output_type": "stream",
     "text": [
      "[!] Failed processing C:\\Users\\Jay\\Desktop\\CV_Project\\Swimmer_Detections\\swimmer_20250509_220912_344531_frame_023742_20250509_033918_987533_0.jpg: index 0 is out of bounds for dimension 0 with size 0\n",
      "[!] Failed processing C:\\Users\\Jay\\Desktop\\CV_Project\\Swimmer_Detections\\swimmer_20250509_220912_525178_frame_023745_20250509_033919_089141_0.jpg: index 0 is out of bounds for dimension 0 with size 0\n",
      "[!] Failed processing C:\\Users\\Jay\\Desktop\\CV_Project\\Swimmer_Detections\\swimmer_20250509_220912_715149_frame_023748_20250509_033919_184783_0.jpg: index 0 is out of bounds for dimension 0 with size 0\n",
      "[!] Failed processing C:\\Users\\Jay\\Desktop\\CV_Project\\Swimmer_Detections\\swimmer_20250509_220912_920082_frame_023751_20250509_033919_278985_0.jpg: index 0 is out of bounds for dimension 0 with size 0\n"
     ]
    },
    {
     "name": "stderr",
     "output_type": "stream",
     "text": [
      " 85%|█████████████████████████████████████████████████████████████████▉            | 2160/2556 [03:59<00:28, 13.73it/s]"
     ]
    },
    {
     "name": "stdout",
     "output_type": "stream",
     "text": [
      "[!] Failed processing C:\\Users\\Jay\\Desktop\\CV_Project\\Swimmer_Detections\\swimmer_20250509_221010_839650_frame_027822_20250509_034112_479212_0.jpg: index 0 is out of bounds for dimension 0 with size 0\n",
      "[!] Failed processing C:\\Users\\Jay\\Desktop\\CV_Project\\Swimmer_Detections\\swimmer_20250509_221011_035600_frame_027825_20250509_034112_596125_0.jpg: index 0 is out of bounds for dimension 0 with size 0\n"
     ]
    },
    {
     "name": "stderr",
     "output_type": "stream",
     "text": [
      " 85%|██████████████████████████████████████████████████████████████████▎           | 2174/2556 [04:00<00:26, 14.55it/s]"
     ]
    },
    {
     "name": "stdout",
     "output_type": "stream",
     "text": [
      "[!] Failed processing C:\\Users\\Jay\\Desktop\\CV_Project\\Swimmer_Detections\\swimmer_20250509_221045_564306_frame_028821_20250509_034149_180368_0.jpg: index 0 is out of bounds for dimension 0 with size 0\n"
     ]
    },
    {
     "name": "stderr",
     "output_type": "stream",
     "text": [
      " 85%|██████████████████████████████████████████████████████████████████▋           | 2184/2556 [04:00<00:26, 14.18it/s]"
     ]
    },
    {
     "name": "stdout",
     "output_type": "stream",
     "text": [
      "[!] Failed processing C:\\Users\\Jay\\Desktop\\CV_Project\\Swimmer_Detections\\swimmer_20250509_221051_168443_frame_028959_20250509_034153_678274_0.jpg: index 0 is out of bounds for dimension 0 with size 0\n"
     ]
    },
    {
     "name": "stderr",
     "output_type": "stream",
     "text": [
      " 86%|██████████████████████████████████████████████████████████████████▉           | 2194/2556 [04:01<00:23, 15.65it/s]"
     ]
    },
    {
     "name": "stdout",
     "output_type": "stream",
     "text": [
      "[!] Failed processing C:\\Users\\Jay\\Desktop\\CV_Project\\Swimmer_Detections\\swimmer_20250509_221053_417673_frame_028998_20250509_034154_915229_0.jpg: index 0 is out of bounds for dimension 0 with size 0\n"
     ]
    },
    {
     "name": "stderr",
     "output_type": "stream",
     "text": [
      " 86%|███████████████████████████████████████████████████████████████████▍          | 2210/2556 [04:02<00:25, 13.49it/s]"
     ]
    },
    {
     "name": "stdout",
     "output_type": "stream",
     "text": [
      "[!] Failed processing C:\\Users\\Jay\\Desktop\\CV_Project\\Swimmer_Detections\\swimmer_20250509_221122_889277_frame_029811_20250509_034221_017661_0.jpg: index 0 is out of bounds for dimension 0 with size 0\n"
     ]
    },
    {
     "name": "stderr",
     "output_type": "stream",
     "text": [
      " 87%|████████████████████████████████████████████████████████████████████          | 2232/2556 [04:04<00:25, 12.62it/s]"
     ]
    },
    {
     "name": "stdout",
     "output_type": "stream",
     "text": [
      "[!] Failed processing C:\\Users\\Jay\\Desktop\\CV_Project\\Swimmer_Detections\\swimmer_20250509_221212_016740_frame_031185_20250509_034306_087236_0.jpg: index 0 is out of bounds for dimension 0 with size 0\n",
      "[!] Failed processing C:\\Users\\Jay\\Desktop\\CV_Project\\Swimmer_Detections\\swimmer_20250509_221212_689823_frame_031197_20250509_034306_452053_0.jpg: index 0 is out of bounds for dimension 0 with size 0\n"
     ]
    },
    {
     "name": "stderr",
     "output_type": "stream",
     "text": [
      " 90%|██████████████████████████████████████████████████████████████████████        | 2295/2556 [04:09<00:24, 10.63it/s]"
     ]
    },
    {
     "name": "stdout",
     "output_type": "stream",
     "text": [
      "[!] Failed processing C:\\Users\\Jay\\Desktop\\CV_Project\\Swimmer_Detections\\swimmer_20250509_221332_414702_frame_033408_20250509_034419_832607_0.jpg: index 0 is out of bounds for dimension 0 with size 0\n",
      "[!] Failed processing C:\\Users\\Jay\\Desktop\\CV_Project\\Swimmer_Detections\\swimmer_20250509_221332_709962_frame_033414_20250509_034420_070694_0.jpg: index 0 is out of bounds for dimension 0 with size 0\n"
     ]
    },
    {
     "name": "stderr",
     "output_type": "stream",
     "text": [
      " 90%|██████████████████████████████████████████████████████████████████████▎       | 2305/2556 [04:10<00:18, 13.54it/s]"
     ]
    },
    {
     "name": "stdout",
     "output_type": "stream",
     "text": [
      "[!] Failed processing C:\\Users\\Jay\\Desktop\\CV_Project\\Swimmer_Detections\\swimmer_20250509_221335_565936_frame_033471_20250509_034422_234302_0.jpg: index 0 is out of bounds for dimension 0 with size 0\n"
     ]
    },
    {
     "name": "stderr",
     "output_type": "stream",
     "text": [
      " 90%|██████████████████████████████████████████████████████████████████████▌       | 2311/2556 [04:10<00:15, 15.96it/s]"
     ]
    },
    {
     "name": "stdout",
     "output_type": "stream",
     "text": [
      "[!] Failed processing C:\\Users\\Jay\\Desktop\\CV_Project\\Swimmer_Detections\\swimmer_20250509_221343_705281_frame_033681_20250509_034429_112348_0.jpg: index 0 is out of bounds for dimension 0 with size 0\n",
      "[!] Failed processing C:\\Users\\Jay\\Desktop\\CV_Project\\Swimmer_Detections\\swimmer_20250509_221344_454331_frame_033690_20250509_034429_405465_0.jpg: index 0 is out of bounds for dimension 0 with size 0\n"
     ]
    },
    {
     "name": "stderr",
     "output_type": "stream",
     "text": [
      " 93%|████████████████████████████████████████████████████████████████████████▏     | 2365/2556 [04:14<00:14, 13.21it/s]"
     ]
    },
    {
     "name": "stdout",
     "output_type": "stream",
     "text": [
      "[!] Failed processing C:\\Users\\Jay\\Desktop\\CV_Project\\Swimmer_Detections\\swimmer_20250509_221504_607624_frame_038847_20250509_034653_173814_0.jpg: index 0 is out of bounds for dimension 0 with size 0\n",
      "[!] Failed processing C:\\Users\\Jay\\Desktop\\CV_Project\\Swimmer_Detections\\swimmer_20250509_221505_087483_frame_038853_20250509_034653_370140_0.jpg: index 0 is out of bounds for dimension 0 with size 0\n"
     ]
    },
    {
     "name": "stderr",
     "output_type": "stream",
     "text": [
      " 93%|████████████████████████████████████████████████████████████████████████▌     | 2377/2556 [04:15<00:13, 12.99it/s]"
     ]
    },
    {
     "name": "stdout",
     "output_type": "stream",
     "text": [
      "[!] Failed processing C:\\Users\\Jay\\Desktop\\CV_Project\\Swimmer_Detections\\swimmer_20250509_221537_459535_frame_039648_20250509_034718_259417_0.jpg: index 0 is out of bounds for dimension 0 with size 0\n"
     ]
    },
    {
     "name": "stderr",
     "output_type": "stream",
     "text": [
      " 94%|█████████████████████████████████████████████████████████████████████████▎    | 2403/2556 [04:18<00:13, 11.23it/s]"
     ]
    },
    {
     "name": "stdout",
     "output_type": "stream",
     "text": [
      "[!] Failed processing C:\\Users\\Jay\\Desktop\\CV_Project\\Swimmer_Detections\\swimmer_20250509_221602_402481_frame_040239_20250509_034737_434839_1.jpg: index 0 is out of bounds for dimension 0 with size 0\n"
     ]
    },
    {
     "name": "stderr",
     "output_type": "stream",
     "text": [
      " 94%|█████████████████████████████████████████████████████████████████████████▍    | 2407/2556 [04:18<00:12, 11.68it/s]"
     ]
    },
    {
     "name": "stdout",
     "output_type": "stream",
     "text": [
      "[!] Failed processing C:\\Users\\Jay\\Desktop\\CV_Project\\Swimmer_Detections\\swimmer_20250509_221602_905139_frame_040245_20250509_034737_632577_1.jpg: index 0 is out of bounds for dimension 0 with size 0\n"
     ]
    },
    {
     "name": "stderr",
     "output_type": "stream",
     "text": [
      " 94%|█████████████████████████████████████████████████████████████████████████▌    | 2411/2556 [04:18<00:11, 12.51it/s]"
     ]
    },
    {
     "name": "stdout",
     "output_type": "stream",
     "text": [
      "[!] Failed processing C:\\Users\\Jay\\Desktop\\CV_Project\\Swimmer_Detections\\swimmer_20250509_221604_250954_frame_040263_20250509_034738_283880_0.jpg: index 0 is out of bounds for dimension 0 with size 0\n",
      "[!] Failed processing C:\\Users\\Jay\\Desktop\\CV_Project\\Swimmer_Detections\\swimmer_20250509_221604_500156_frame_040266_20250509_034738_395550_0.jpg: index 0 is out of bounds for dimension 0 with size 0\n",
      "[!] Failed processing C:\\Users\\Jay\\Desktop\\CV_Project\\Swimmer_Detections\\swimmer_20250509_221605_135042_frame_040278_20250509_034738_813970_0.jpg: index 0 is out of bounds for dimension 0 with size 0\n"
     ]
    },
    {
     "name": "stderr",
     "output_type": "stream",
     "text": [
      " 95%|█████████████████████████████████████████████████████████████████████████▊    | 2419/2556 [04:19<00:11, 11.91it/s]"
     ]
    },
    {
     "name": "stdout",
     "output_type": "stream",
     "text": [
      "[!] Failed processing C:\\Users\\Jay\\Desktop\\CV_Project\\Swimmer_Detections\\swimmer_20250509_221620_679116_frame_040674_20250509_034751_845098_0.jpg: index 0 is out of bounds for dimension 0 with size 0\n"
     ]
    },
    {
     "name": "stderr",
     "output_type": "stream",
     "text": [
      " 95%|██████████████████████████████████████████████████████████████████████████    | 2427/2556 [04:20<00:10, 12.16it/s]"
     ]
    },
    {
     "name": "stdout",
     "output_type": "stream",
     "text": [
      "[!] Failed processing C:\\Users\\Jay\\Desktop\\CV_Project\\Swimmer_Detections\\swimmer_20250509_221629_929364_frame_040890_20250509_034758_416151_0.jpg: index 0 is out of bounds for dimension 0 with size 0\n"
     ]
    },
    {
     "name": "stderr",
     "output_type": "stream",
     "text": [
      " 96%|██████████████████████████████████████████████████████████████████████████▋   | 2447/2556 [04:21<00:08, 12.17it/s]"
     ]
    },
    {
     "name": "stdout",
     "output_type": "stream",
     "text": [
      "[!] Failed processing C:\\Users\\Jay\\Desktop\\CV_Project\\Swimmer_Detections\\swimmer_20250509_221723_657878_frame_042417_20250509_034849_550011_0.jpg: index 0 is out of bounds for dimension 0 with size 0\n"
     ]
    },
    {
     "name": "stderr",
     "output_type": "stream",
     "text": [
      " 97%|███████████████████████████████████████████████████████████████████████████▎  | 2469/2556 [04:23<00:07, 11.93it/s]"
     ]
    },
    {
     "name": "stdout",
     "output_type": "stream",
     "text": [
      "[!] Failed processing C:\\Users\\Jay\\Desktop\\CV_Project\\Swimmer_Detections\\swimmer_20250509_221747_642407_frame_043095_20250509_034911_742491_0.jpg: index 0 is out of bounds for dimension 0 with size 0\n"
     ]
    },
    {
     "name": "stderr",
     "output_type": "stream",
     "text": [
      " 97%|███████████████████████████████████████████████████████████████████████████▍  | 2471/2556 [04:23<00:06, 12.17it/s]"
     ]
    },
    {
     "name": "stdout",
     "output_type": "stream",
     "text": [
      "[!] Failed processing C:\\Users\\Jay\\Desktop\\CV_Project\\Swimmer_Detections\\swimmer_20250509_221753_534245_frame_043260_20250509_034916_939951_0.jpg: index 0 is out of bounds for dimension 0 with size 0\n"
     ]
    },
    {
     "name": "stderr",
     "output_type": "stream",
     "text": [
      " 97%|███████████████████████████████████████████████████████████████████████████▊  | 2483/2556 [04:24<00:06, 12.06it/s]"
     ]
    },
    {
     "name": "stdout",
     "output_type": "stream",
     "text": [
      "[!] Failed processing C:\\Users\\Jay\\Desktop\\CV_Project\\Swimmer_Detections\\swimmer_20250509_221807_707517_frame_043662_20250509_034929_827941_0.jpg: index 0 is out of bounds for dimension 0 with size 0\n"
     ]
    },
    {
     "name": "stderr",
     "output_type": "stream",
     "text": [
      " 98%|████████████████████████████████████████████████████████████████████████████▎ | 2501/2556 [04:26<00:04, 12.61it/s]"
     ]
    },
    {
     "name": "stdout",
     "output_type": "stream",
     "text": [
      "[!] Failed processing C:\\Users\\Jay\\Desktop\\CV_Project\\Swimmer_Detections\\swimmer_20250509_221816_397613_frame_043854_20250509_034936_159046_0.jpg: index 0 is out of bounds for dimension 0 with size 0\n"
     ]
    },
    {
     "name": "stderr",
     "output_type": "stream",
     "text": [
      " 99%|████████████████████████████████████████████████████████████████████████████▊ | 2519/2556 [04:27<00:03, 12.07it/s]"
     ]
    },
    {
     "name": "stdout",
     "output_type": "stream",
     "text": [
      "[!] Failed processing C:\\Users\\Jay\\Desktop\\CV_Project\\Swimmer_Detections\\swimmer_20250509_221828_960701_frame_044172_20250509_034948_264491_0.jpg: index 0 is out of bounds for dimension 0 with size 0\n"
     ]
    },
    {
     "name": "stderr",
     "output_type": "stream",
     "text": [
      "100%|█████████████████████████████████████████████████████████████████████████████▋| 2547/2556 [04:29<00:00, 14.06it/s]"
     ]
    },
    {
     "name": "stdout",
     "output_type": "stream",
     "text": [
      "[!] Failed processing C:\\Users\\Jay\\Desktop\\CV_Project\\Swimmer_Detections\\swimmer_20250509_221919_308516_frame_045588_20250509_035042_419091_0.jpg: index 0 is out of bounds for dimension 0 with size 0\n",
      "[!] Failed processing C:\\Users\\Jay\\Desktop\\CV_Project\\Swimmer_Detections\\swimmer_20250509_221925_673598_frame_045981_20250509_035055_669977_0.jpg: index 0 is out of bounds for dimension 0 with size 0\n"
     ]
    },
    {
     "name": "stderr",
     "output_type": "stream",
     "text": [
      "100%|█████████████████████████████████████████████████████████████████████████████▊| 2551/2556 [04:30<00:00, 13.91it/s]"
     ]
    },
    {
     "name": "stdout",
     "output_type": "stream",
     "text": [
      "[!] Failed processing C:\\Users\\Jay\\Desktop\\CV_Project\\Swimmer_Detections\\swimmer_20250509_221930_499626_frame_048117_20250509_035146_764796_0.jpg: index 0 is out of bounds for dimension 0 with size 0\n"
     ]
    },
    {
     "name": "stderr",
     "output_type": "stream",
     "text": [
      "100%|██████████████████████████████████████████████████████████████████████████████| 2556/2556 [04:30<00:00,  9.44it/s]"
     ]
    },
    {
     "name": "stdout",
     "output_type": "stream",
     "text": [
      "[!] Failed processing C:\\Users\\Jay\\Desktop\\CV_Project\\Swimmer_Detections\\swimmer_20250509_221942_453405_frame_049647_20250509_035225_743936_0.jpg: index 0 is out of bounds for dimension 0 with size 0\n",
      "\n",
      "✅ Finished:\n",
      "🔢 Total: 2556\n",
      "✅ Detected: 2350\n",
      "❌ Errors: 206\n",
      "📂 Results saved to: C:\\Users\\Jay\\Desktop\\CV_Project\\Swimmer_yolo_estimation\n",
      "\n",
      "🏁 Pose estimation process completed.\n"
     ]
    },
    {
     "name": "stderr",
     "output_type": "stream",
     "text": [
      "\n"
     ]
    }
   ],
   "source": [
    "import cv2\n",
    "import os\n",
    "import numpy as np\n",
    "from tqdm import tqdm\n",
    "from datetime import datetime\n",
    "from ultralytics import YOLO\n",
    "from dataclasses import dataclass\n",
    "from typing import Optional, Tuple, Dict, List\n",
    "\n",
    "\n",
    "@dataclass\n",
    "class PoseConfig:\n",
    "    model_weights: str = 'yolov8x-pose.pt'\n",
    "    threshold: float = 0.5\n",
    "    iou: float = 0.7\n",
    "    device: str = 'cuda'\n",
    "    use_smoothing: bool = True\n",
    "    smoothing_window: int = 5\n",
    "\n",
    "\n",
    "class SwimmerPoseAnalyzer:\n",
    "    def __init__(self, config: PoseConfig):\n",
    "        self.config = config\n",
    "        self.model = YOLO(config.model_weights)\n",
    "        self.model.conf = config.threshold\n",
    "        self.model.iou = config.iou\n",
    "        self.keypoint_cache = {}\n",
    "        self.limb_pairs = [\n",
    "            (5, 6), (5, 11), (6, 12), (11, 12),\n",
    "            (5, 7), (7, 9), (6, 8), (8, 10),\n",
    "            (11, 13), (13, 15), (12, 14), (14, 16)\n",
    "        ]\n",
    "\n",
    "    def _apply_smoothing(self, keypoints: np.ndarray, idx: int) -> np.ndarray:\n",
    "        if not self.config.use_smoothing:\n",
    "            return keypoints\n",
    "\n",
    "        self.keypoint_cache[idx] = keypoints\n",
    "\n",
    "        recent_frames = [self.keypoint_cache[i] for i in range(\n",
    "            max(0, idx - self.config.smoothing_window), idx + 1\n",
    "        ) if i in self.keypoint_cache]\n",
    "\n",
    "        weights = np.exp(np.linspace(-1, 0, len(recent_frames)))\n",
    "        weights /= weights.sum()\n",
    "\n",
    "        smoothed = sum(w * kp for w, kp in zip(weights, recent_frames))\n",
    "        # Limit memory\n",
    "        for i in list(self.keypoint_cache.keys()):\n",
    "            if i < idx - self.config.smoothing_window:\n",
    "                del self.keypoint_cache[i]\n",
    "\n",
    "        return smoothed\n",
    "\n",
    "    def _draw_pose(self, image: np.ndarray, keypoints: np.ndarray, score: float, mode='full') -> np.ndarray:\n",
    "        output = image.copy()\n",
    "\n",
    "        if mode in ['full', 'stick']:\n",
    "            for pt1_idx, pt2_idx in self.limb_pairs:\n",
    "                x1, y1 = keypoints[pt1_idx][:2]\n",
    "                x2, y2 = keypoints[pt2_idx][:2]\n",
    "                if all(0 <= val < dim for val, dim in zip((x1, y1, x2, y2), image.shape[1::-1] * 2)):\n",
    "                    cv2.line(output, (int(x1), int(y1)), (int(x2), int(y2)), (0, 255, 0), 2)\n",
    "\n",
    "        if mode in ['full', 'points']:\n",
    "            for x, y, c in keypoints:\n",
    "                if c > self.config.threshold:\n",
    "                    cv2.circle(output, (int(x), int(y)), 4, (0, 0, 255), -1)\n",
    "\n",
    "        cv2.putText(output, f\"Conf: {score:.2f}\", (10, 30),\n",
    "                    cv2.FONT_HERSHEY_SIMPLEX, 1, (0, 255, 0), 2)\n",
    "        return output\n",
    "\n",
    "    def process_single_image(self, path: str, save_dir: str, index: int) -> Tuple[bool, Optional[Dict]]:\n",
    "        img = cv2.imread(path)\n",
    "        if img is None:\n",
    "            return False, None\n",
    "\n",
    "        try:\n",
    "            result = self.model(img, verbose=False)\n",
    "            if not result or not result[0].keypoints:\n",
    "                return False, None\n",
    "\n",
    "            keypoints = result[0].keypoints[0].data[0].cpu().numpy()\n",
    "            confidence = float(result[0].boxes[0].conf)\n",
    "            keypoints = self._apply_smoothing(keypoints, index)\n",
    "\n",
    "            ts = datetime.now().strftime(\"%Y%m%d_%H%M%S_%f\")\n",
    "            filename = os.path.splitext(os.path.basename(path))[0]\n",
    "\n",
    "            for view in ['full', 'stick', 'points']:\n",
    "                vis = self._draw_pose(img, keypoints, confidence, view)\n",
    "                out_path = os.path.join(save_dir, f\"pose_{view}_{ts}_{filename}.jpg\")\n",
    "                cv2.imwrite(out_path, vis)\n",
    "\n",
    "            return True, {\n",
    "                'keypoints': keypoints.tolist(),\n",
    "                'confidence': confidence,\n",
    "                'frame_id': index\n",
    "            }\n",
    "\n",
    "        except Exception as e:\n",
    "            print(f\"[!] Failed processing {path}: {e}\")\n",
    "            return False, None\n",
    "\n",
    "    def run_batch_estimation(self, source_folder: str, output_folder: str):\n",
    "        os.makedirs(output_folder, exist_ok=True)\n",
    "        images = sorted([\n",
    "            f for f in os.listdir(source_folder)\n",
    "            if f.lower().endswith(('.jpg', '.jpeg', '.png'))\n",
    "        ])\n",
    "\n",
    "        if not images:\n",
    "            print(\" No images found.\")\n",
    "            return\n",
    "\n",
    "        results = []\n",
    "        total, successes, failures = len(images), 0, 0\n",
    "\n",
    "        print(f\"\\n🧠 Starting batch pose estimation on {total} images...\")\n",
    "        for i, img_name in enumerate(tqdm(images)):\n",
    "            img_path = os.path.join(source_folder, img_name)\n",
    "            ok, data = self.process_single_image(img_path, output_folder, i)\n",
    "\n",
    "            if ok:\n",
    "                successes += 1\n",
    "                results.append({\n",
    "                    'filename': img_name,\n",
    "                    'pose_data': data\n",
    "                })\n",
    "            else:\n",
    "                failures += 1\n",
    "\n",
    "        if results:\n",
    "            timestamp = datetime.now().strftime(\"%Y%m%d_%H%M%S\")\n",
    "            np.save(os.path.join(output_folder, f\"pose_data_{timestamp}.npy\"), results)\n",
    "\n",
    "        print(f\"\\n Finished:\")\n",
    "        print(f\"Total: {total}\")\n",
    "        print(f\"Detected: {successes}\")\n",
    "        print(f\"Errors: {failures}\")\n",
    "        print(f\"Results saved to: {output_folder}\")\n",
    "\n",
    "\n",
    "# --- Run This Script ---\n",
    "if __name__ == \"__main__\":\n",
    "    try:\n",
    "        CONFIG = PoseConfig(\n",
    "            model_weights='yolov8x-pose.pt',\n",
    "            threshold=0.5,\n",
    "            iou=0.7,\n",
    "            device='cuda',\n",
    "            use_smoothing=True,\n",
    "            smoothing_window=5\n",
    "        )\n",
    "\n",
    "        estimator = SwimmerPoseAnalyzer(CONFIG)\n",
    "\n",
    "        INPUT_DIR = r\"C:\\Users\\Jay\\Desktop\\CV_Project\\Swimmer_Detections\"\n",
    "        OUTPUT_DIR = r\"C:\\Users\\Jay\\Desktop\\CV_Project\\Swimmer_yolo_estimation\"\n",
    "\n",
    "        estimator.run_batch_estimation(INPUT_DIR, OUTPUT_DIR)\n",
    "\n",
    "    except Exception as err:\n",
    "        print(f\"\\n Runtime error: {err}\")\n",
    "    finally:\n",
    "        print(\"\\n Pose estimation process completed.\")\n"
   ]
  },
  {
   "cell_type": "code",
   "execution_count": null,
   "id": "bfc0acbf-050e-4268-b854-3c6539b54e54",
   "metadata": {},
   "outputs": [],
   "source": []
  }
 ],
 "metadata": {
  "kernelspec": {
   "display_name": "Python (SAM)",
   "language": "python",
   "name": "sam-env"
  },
  "language_info": {
   "codemirror_mode": {
    "name": "ipython",
    "version": 3
   },
   "file_extension": ".py",
   "mimetype": "text/x-python",
   "name": "python",
   "nbconvert_exporter": "python",
   "pygments_lexer": "ipython3",
   "version": "3.12.5"
  }
 },
 "nbformat": 4,
 "nbformat_minor": 5
}
